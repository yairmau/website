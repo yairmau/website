{
 "cells": [
  {
   "cell_type": "markdown",
   "metadata": {},
   "source": [
    "# What's the best path to save someone from drowning?\n",
    "> An example of the principle of least action\n",
    "\n",
    "- toc: true \n",
    "- badges: true\n",
    "- comments: false\n",
    "- categories: [jupyter]"
   ]
  },
  {
   "cell_type": "markdown",
   "metadata": {},
   "source": [
    "<img src=\"python_figures/bestpath.png\" alt=\"best path\" width=\"600\">\n",
    "\n",
    "## Introduction\n",
    "\n",
    "Snell's law of refraction can be understood in this example, where the lifeguard wants to minimize the time it takes to get to the drowning person.\n",
    "\n",
    "## Code"
   ]
  },
  {
   "cell_type": "code",
   "execution_count": 1,
   "metadata": {},
   "outputs": [],
   "source": [
    "import matplotlib\n",
    "import matplotlib.pyplot as plt\n",
    "import numpy as np"
   ]
  },
  {
   "cell_type": "code",
   "execution_count": 2,
   "metadata": {},
   "outputs": [],
   "source": [
    "# http://wiki.scipy.org/Cookbook/Matplotlib/LaTeX_Examples\n",
    "# this is a latex constant, don't change it.\n",
    "pts_per_inch = 72.27\n",
    "# write \"\\the\\textwidth\" (or \"\\showthe\\columnwidth\" for a 2 collumn text)\n",
    "text_width_in_pts = 252.0\n",
    "# inside a figure environment in latex, the result will be on the\n",
    "# dvi/pdf next to the figure. See url above.\n",
    "text_width_in_inches = text_width_in_pts / pts_per_inch\n",
    "# make rectangles with a nice proportion\n",
    "golden_ratio = 0.618\n",
    "# figure.png or figure.eps will be intentionally larger, because it is prettier\n",
    "inverse_latex_scale = 2\n",
    "# when compiling latex code, use\n",
    "# \\includegraphics[scale=(1/inverse_latex_scale)]{figure}\n",
    "# we want the figure to occupy 2/3 (for example) of the text width\n",
    "fig_proportion = (3.0 / 3.0)\n",
    "csize = inverse_latex_scale * fig_proportion * text_width_in_inches\n",
    "# always 1.0 on the first argument\n",
    "fig_size = (1.0 * csize,golden_ratio * csize)\n",
    "# find out the fontsize of your latex text, and put it here\n",
    "text_size = inverse_latex_scale * 12\n",
    "tick_size = inverse_latex_scale * 8\n",
    "# learn how to configure:\n",
    "# http://matplotlib.sourceforge.net/users/customizing.html\n",
    "params = {'axes.labelsize': text_size,\n",
    "          'legend.fontsize': tick_size,\n",
    "          'legend.handlelength': 2.5,\n",
    "          'legend.borderaxespad': 0,\n",
    "          'xtick.labelsize': tick_size,\n",
    "          'ytick.labelsize': tick_size,\n",
    "          'font.family': 'serif',\n",
    "          'font.size': text_size,\n",
    "          # Times, Palatino, New Century Schoolbook,\n",
    "          # Bookman, Computer Modern Roman\n",
    "#           'font.serif': ['Times'],\n",
    "#           'ps.usedistiller': 'xpdf',\n",
    "          'text.usetex': True,\n",
    "          'figure.figsize': fig_size,\n",
    "          # include here any neede package for latex\n",
    "          'text.latex.preamble': [r'\\usepackage{amsmath}',\n",
    "                                  ],\n",
    "          }\n",
    "plt.rcParams.update(params)\n",
    "# plt.clf()\n",
    "# figsize accepts only inches.\n",
    "plt.ioff()\n",
    "fig = plt.figure(1, figsize=fig_size)\n",
    "fig.subplots_adjust(left=0.0, right=1.0, top=1.0, bottom=0.0,\n",
    "                    hspace=0.02, wspace=0.02)\n",
    "ax = fig.add_subplot(111)"
   ]
  },
  {
   "cell_type": "code",
   "execution_count": 3,
   "metadata": {},
   "outputs": [
    {
     "data": {
      "text/plain": [
       "Text(-3, -2.3, 'lifeguard')"
      ]
     },
     "execution_count": 3,
     "metadata": {},
     "output_type": "execute_result"
    }
   ],
   "source": [
    "origin = [0, 0]\n",
    "lifeguard = [-3, -2]\n",
    "drowning = [2, 3]\n",
    "\n",
    "ax.set_xticks([])\n",
    "ax.set_yticks([])\n",
    "xlim = [-4, 4]\n",
    "ylim = [-4, 4]\n",
    "ax.axis([xlim[0], xlim[1], ylim[0], ylim[1]])\n",
    "\n",
    "##### drowning #####\n",
    "# line\n",
    "ax.plot([origin[0], drowning[0]], [origin[1], drowning[1]],\n",
    "        color=\"black\", lw=2)\n",
    "# diamond\n",
    "ax.plot(drowning[0], drowning[1], \"D\", markerfacecolor=\"black\", markersize=10,\n",
    "        markeredgewidth=3, color=\"black\")\n",
    "# explanation\n",
    "ax.text(drowning[0], drowning[1] - 0.3, r\"drowning\", verticalalignment=\"top\")\n",
    "ax.text(drowning[0], drowning[1] - 0.8, r\"person\", verticalalignment=\"top\")\n",
    "\n",
    "##### lifeguard #####\n",
    "# line\n",
    "ax.plot([origin[0], lifeguard[0]], [origin[1], lifeguard[1]],\n",
    "        color=\"black\", lw=2)\n",
    "# circle\n",
    "ax.plot(lifeguard[0], lifeguard[1], \"o\", markerfacecolor=\"black\",\n",
    "        markersize=10, markeredgewidth=3, color=\"black\")\n",
    "# explanation\n",
    "ax.text(lifeguard[0], lifeguard[1] - 0.3, r\"lifeguard\",\n",
    "        verticalalignment=\"top\")"
   ]
  },
  {
   "cell_type": "markdown",
   "metadata": {},
   "source": [
    "background colors"
   ]
  },
  {
   "cell_type": "code",
   "execution_count": 4,
   "metadata": {},
   "outputs": [
    {
     "data": {
      "text/plain": [
       "Text(0.95, 0.5, '(2) sea')"
      ]
     },
     "execution_count": 4,
     "metadata": {},
     "output_type": "execute_result"
    }
   ],
   "source": [
    "sand = matplotlib.patches.Rectangle([xlim[0], ylim[0]],\n",
    "                                    (xlim[1] - xlim[0]),\n",
    "                                    (ylim[1] - ylim[0]) / 2.0,\n",
    "                                    color=\"yellow\", alpha=0.6)\n",
    "ax.add_patch(sand)\n",
    "sea = matplotlib.patches.Rectangle([xlim[0], 0],\n",
    "                                   (xlim[1] - xlim[0]),\n",
    "                                   (ylim[1] - ylim[0]) / 2.0,\n",
    "                                   color=\"blue\", alpha=0.4)\n",
    "ax.add_patch(sea)\n",
    "###### sand #####\n",
    "ax.text(0.95, 0.05, r\"(1) sand\",\n",
    "        transform=ax.transAxes, horizontalalignment='right')\n",
    "###### sea #####\n",
    "ax.text(0.95, 0.50, r\"(2) sea\",\n",
    "        transform=ax.transAxes, horizontalalignment='right',\n",
    "        verticalalignment=\"bottom\")"
   ]
  },
  {
   "cell_type": "markdown",
   "metadata": {},
   "source": [
    "spines through origin"
   ]
  },
  {
   "cell_type": "code",
   "execution_count": 5,
   "metadata": {},
   "outputs": [
    {
     "data": {
      "text/plain": [
       "[]"
      ]
     },
     "execution_count": 5,
     "metadata": {},
     "output_type": "execute_result"
    }
   ],
   "source": [
    "# http://matplotlib.org/examples/pylab_examples/spine_placement_demo.html\n",
    "ax.spines['left'].set_position('zero')\n",
    "ax.spines['right'].set_color('none')\n",
    "ax.spines['bottom'].set_position('zero')\n",
    "ax.spines['top'].set_color('none')\n",
    "ax.spines['left'].set_smart_bounds(False)\n",
    "ax.spines['bottom'].set_smart_bounds(False)\n",
    "# ax.xaxis.set_ticks_position('bottom')\n",
    "# ax.yaxis.set_ticks_position('left')\n",
    "ax.set_xticks([])\n",
    "ax.set_yticks([])"
   ]
  },
  {
   "cell_type": "markdown",
   "metadata": {},
   "source": [
    "annotations"
   ]
  },
  {
   "cell_type": "code",
   "execution_count": 6,
   "metadata": {},
   "outputs": [
    {
     "data": {
      "text/plain": [
       "Text(0.2, 1.5, '$\\\\theta_2$')"
      ]
     },
     "execution_count": 6,
     "metadata": {},
     "output_type": "execute_result"
    }
   ],
   "source": [
    "# h_1\n",
    "ax.annotate(\"\",\n",
    "            xy=(lifeguard[0] - 0.3, lifeguard[1]), xycoords='data',\n",
    "            xytext=(lifeguard[0] - 0.3, 0), textcoords='data',\n",
    "            size=tick_size,\n",
    "            arrowprops=dict(arrowstyle=\"<->\",\n",
    "                            connectionstyle=\"arc3\"),\n",
    "            )\n",
    "ax.text(lifeguard[0] - 0.2, lifeguard[1] / 2.0, r\"$h_1$\",\n",
    "        verticalalignment=\"center\", horizontalalignment=\"left\")\n",
    "# h_2\n",
    "ax.annotate(\"\",\n",
    "            xy=(lifeguard[0] - 0.3, drowning[1]), xycoords='data',\n",
    "            xytext=(lifeguard[0] - 0.3, 0), textcoords='data',\n",
    "            size=tick_size,\n",
    "            arrowprops=dict(arrowstyle=\"<->\",\n",
    "                            connectionstyle=\"arc3\"),\n",
    "            )\n",
    "ax.text(lifeguard[0] - 0.2, drowning[1] / 2.0, r\"$h_2$\",\n",
    "        verticalalignment=\"center\", horizontalalignment=\"left\")\n",
    "# L\n",
    "ax.annotate(\"\",\n",
    "            xy=(lifeguard[0], drowning[1] + 0.3), xycoords='data',\n",
    "            xytext=(drowning[0], drowning[1] + 0.3), textcoords='data',\n",
    "            size=tick_size,\n",
    "            arrowprops=dict(arrowstyle=\"<->\",\n",
    "                            shrinkA=0, shrinkB=0,\n",
    "                            connectionstyle=\"arc3\"),\n",
    "            )\n",
    "ax.text((lifeguard[1] - lifeguard[0]) / 2.0, drowning[1] + 0.3, r\"$L$\",\n",
    "        verticalalignment=\"bottom\", horizontalalignment=\"left\")\n",
    "\n",
    "# l1\n",
    "ax.text(lifeguard[0] / 2.0, 1.10 * lifeguard[1] / 2.0, r\"$\\ell_1$\",\n",
    "        verticalalignment=\"top\", horizontalalignment=\"left\")\n",
    "# l2\n",
    "ax.text(drowning[0] / 2.0, 0.95 * drowning[1] / 2.0, r\"$\\ell_2$\",\n",
    "        verticalalignment=\"top\", horizontalalignment=\"left\")\n",
    "\n",
    "# theta_1\n",
    "ax.annotate(\"\",\n",
    "            xy=(0, 0.5 * lifeguard[1]), xycoords='data',\n",
    "            xytext=(0.2 * lifeguard[0], 0.2 * lifeguard[1]), textcoords='data',\n",
    "            size=tick_size,\n",
    "            arrowprops=dict(arrowstyle=\"-\", lw=2,\n",
    "                            connectionstyle=\"angle3,angleA=-60,angleB=0\"),\n",
    "            )\n",
    "ax.text(0.1 * lifeguard[0], 0.5 * lifeguard[1], r\"$\\theta_1$\",\n",
    "        verticalalignment=\"top\", horizontalalignment=\"right\")\n",
    "\n",
    "# theta_2\n",
    "ax.annotate(\"\",\n",
    "            xy=(0, 0.3 * drowning[1]), xycoords='data',\n",
    "            xytext=(0.2 * drowning[0], 0.2 * drowning[1]), textcoords='data',\n",
    "            size=tick_size,\n",
    "            arrowprops=dict(arrowstyle=\"-\", lw=2,\n",
    "                            connectionstyle=\"angle3,angleA=120,angleB=0\"),\n",
    "            )\n",
    "ax.text(0.1 * drowning[0], 0.5 * drowning[1], r\"$\\theta_2$\",\n",
    "        verticalalignment=\"top\", horizontalalignment=\"left\")"
   ]
  },
  {
   "cell_type": "code",
   "execution_count": 7,
   "metadata": {},
   "outputs": [
    {
     "data": {
      "image/png": "[encoded data removed]",
      "text/plain": [
       "<Figure size 502.117x310.308 with 1 Axes>"
      ]
     },
     "execution_count": 7,
     "metadata": {},
     "output_type": "execute_result"
    }
   ],
   "source": [
    "%matplotlib inline\n",
    "fig.savefig(\"python_figures/bestpath.png\", dpi=300)\n",
    "fig"
   ]
  },
  {
   "cell_type": "code",
   "execution_count": null,
   "metadata": {},
   "outputs": [],
   "source": []
  }
 ],
 "metadata": {
  "anaconda-cloud": {},
  "kernelspec": {
   "display_name": "Python 3",
   "language": "python",
   "name": "python3"
  },
  "language_info": {
   "codemirror_mode": {
    "name": "ipython",
    "version": 3
   },
   "file_extension": ".py",
   "mimetype": "text/x-python",
   "name": "python",
   "nbconvert_exporter": "python",
   "pygments_lexer": "ipython3",
   "version": "3.7.4"
  }
 },
 "nbformat": 4,
 "nbformat_minor": 1
}
