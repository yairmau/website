{
 "cells": [
  {
   "cell_type": "markdown",
   "metadata": {},
   "source": [
    "# The time-dependent Ginzburg-Landau equation\n",
    "> Finite differences method applied to a beautiful equation\n",
    "\n",
    "- toc: true \n",
    "- badges: true\n",
    "- comments: false\n",
    "- categories: [jupyter]"
   ]
  },
  {
   "cell_type": "markdown",
   "metadata": {},
   "source": [
    "> youtube: https://youtu.be/JgE9Px7zsQE\n",
    "\n",
    "## Introduction\n",
    "\n",
    "Simulation of the Time-Dependent Ginzburg-Landau Equation\n",
    "$$\\frac{\\text{d}u}{\\text{d}t}= u - u^3 +D\\nabla^2 u,$$\n",
    "in 1 and 2 spatial dimensions.\n",
    "This is the simplest example of numerical integration through Finite Differences:\n",
    "- Euler method to advance time\n",
    "- Five-point stencil to compute the laplacian, periodic boundary conditions are assumed.\n",
    "See an example of the output here: https://www.youtube.com/watch?v=JgE9Px7zsQE\n",
    "\n",
    "## Code"
   ]
  },
  {
   "cell_type": "code",
   "execution_count": 1,
   "metadata": {},
   "outputs": [],
   "source": [
    "import numpy as np\n",
    "import matplotlib.pyplot as plt\n",
    "from mpl_toolkits.axes_grid1 import make_axes_locatable\n",
    "import time as tm"
   ]
  },
  {
   "cell_type": "code",
   "execution_count": 2,
   "metadata": {},
   "outputs": [],
   "source": [
    "# grid size\n",
    "n = 128\n",
    "# for 1d simulation write N=(n,)\n",
    "N=(n,n)\n",
    "# diffusion coefficient\n",
    "D = 1.0\n",
    "# spatial dimensions\n",
    "L = 100.0\n",
    "dx = L / n\n",
    "x = np.arange(0,L,dx)\n",
    "# time\n",
    "t = 0.0\n",
    "total_time = 3.0\n",
    "# beware of the Von Neumann stability analysis\n",
    "# https://en.wikipedia.org/wiki/Von_Neumann_stability_analysis\n",
    "dt = 0.2 * 0.5 * dx**2 / D"
   ]
  },
  {
   "cell_type": "markdown",
   "metadata": {},
   "source": [
    "define functions"
   ]
  },
  {
   "cell_type": "code",
   "execution_count": 3,
   "metadata": {},
   "outputs": [],
   "source": [
    "def periodic_lap_1d(u,dx=1.0):\n",
    "    return (+1*np.roll(u,+1)\n",
    "            +1*np.roll(u,-1)\n",
    "            -2*u) / dx**2\n",
    "def periodic_lap_2d(u,dx=1.0):\n",
    "    return (+1*np.roll(u,+1,axis=0)\n",
    "            +1*np.roll(u,-1,axis=0)\n",
    "            +1*np.roll(u,+1,axis=1)\n",
    "            +1*np.roll(u,-1,axis=1)\n",
    "            -4*u) / dx**2\n",
    "f = lambda u: u - u**3"
   ]
  },
  {
   "cell_type": "markdown",
   "metadata": {},
   "source": [
    "initialize and start plotting"
   ]
  },
  {
   "cell_type": "code",
   "execution_count": 5,
   "metadata": {},
   "outputs": [
    {
     "data": {
      "text/plain": [
       "Text(0.5, 1.0, 'time=  0.0')"
      ]
     },
     "execution_count": 5,
     "metadata": {},
     "output_type": "execute_result"
    }
   ],
   "source": [
    "plt.ion()\n",
    "fig = plt.figure(1,figsize=(7,6))\n",
    "plt.clf()\n",
    "ax = fig.add_subplot(111)\n",
    "# random initial condition\n",
    "u = 2*np.random.random(N)-1.0\n",
    "if len(N) == 1:\n",
    "    lap = periodic_lap_1d\n",
    "    p, = ax.plot(x,u)\n",
    "    ax.axis([x[0],x[-1],-1.1,1.1])\n",
    "if len(N) == 2:\n",
    "    lap = periodic_lap_2d\n",
    "    p = ax.imshow(u,cmap=\"RdGy\", vmin=-1.0, vmax=1.0,extent=[0,L,0,L])\n",
    "    # create an axes on the right side of ax. The width of cax will be 5%\n",
    "    # of ax and the padding between cax and ax will be fixed at 0.15 inch.\n",
    "    divider = make_axes_locatable(ax)\n",
    "    colorbar_ax = divider.append_axes(\"right\", size=\"5%\", pad=0.15)\n",
    "    cbar = fig.colorbar(p, cax=colorbar_ax, ticks=[-1,-0.5,0,0.5,1])\n",
    "ax.set_title(\"time={:5.1f}\".format(0.0))"
   ]
  },
  {
   "cell_type": "markdown",
   "metadata": {},
   "source": [
    "start simulation"
   ]
  },
  {
   "cell_type": "code",
   "execution_count": 5,
   "metadata": {},
   "outputs": [],
   "source": [
    "while t<total_time:\n",
    "    t += dt\n",
    "    u = u + dt * (f(u) + D * lap(u,dx) )\n",
    "    # we don't need to plot again, just to update the data of the plot\n",
    "    if len(N) == 1:\n",
    "        p.set_data(x,u)\n",
    "    if len(N) == 2:\n",
    "        p.set_data(u)\n",
    "    ax.set_title(\"time={:5.1f}\".format(t))\n",
    "    fig.canvas.draw()"
   ]
  }
 ],
 "metadata": {
  "anaconda-cloud": {},
  "kernelspec": {
   "display_name": "Python 3",
   "language": "python",
   "name": "python3"
  },
  "language_info": {
   "codemirror_mode": {
    "name": "ipython",
    "version": 3
   },
   "file_extension": ".py",
   "mimetype": "text/x-python",
   "name": "python",
   "nbconvert_exporter": "python",
   "pygments_lexer": "ipython3",
   "version": "3.7.4"
  }
 },
 "nbformat": 4,
 "nbformat_minor": 1
}
