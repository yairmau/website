{
 "cells": [
  {
   "cell_type": "markdown",
   "metadata": {},
   "source": [
    "# let's have fun plotting some data 😀\n",
    "> creating first graphs out of real data!\n",
    "\n",
    "- toc: false \n",
    "- badges: true\n",
    "- comments: false\n",
    "- categories: [jupyter]"
   ]
  },
  {
   "cell_type": "markdown",
   "metadata": {},
   "source": [
    "## download the data\n",
    "1. Go to the Faculty of Agriculture's [weather station](http://www.meteo-tech.co.il/faculty/faculty.asp?client=1).\n",
    "2. Click on\n",
    "משיכת נתונים\n",
    "and download data for 1 September to 28 February, with a 24h interval. Call it `data-sep2020-feb2021`. You can download an example file [here](hydrology_figures/data-sep2020-feb2021.csv).\n",
    "3. Open the .csv file with Excel, see how it looks like\n",
    "\n",
    "## import packages\n",
    "We need to import this data into python. First we import useful packages. **Type** (don't copy and paste) the following lines in the code cell below:\n",
    "\n",
    "```python\n",
    "import pandas as pd\n",
    "import numpy as np\n",
    "import matplotlib.pyplot as plt\n",
    "import seaborn as sns\n",
    "sns.set(style=\"ticks\", font_scale=1.5)\n",
    "# the following lets us use dates as xlim\n",
    "from pandas.plotting import register_matplotlib_converters\n",
    "register_matplotlib_converters()\n",
    "```"
   ]
  },
  {
   "cell_type": "code",
   "execution_count": null,
   "metadata": {},
   "outputs": [],
   "source": []
  },
  {
   "cell_type": "markdown",
   "metadata": {},
   "source": [
    "## import data with pandas\n",
    "Import data from csv and put it in a pandas **dataframe** (a table). Make line 5 the header (column names)\n",
    "\n",
    "```python\n",
    "df = pd.read_csv(\"data-sep2020-feb2021.csv\", header=[4], encoding = \"ISO-8859-1\")\n",
    "df\n",
    "```"
   ]
  },
  {
   "cell_type": "code",
   "execution_count": null,
   "metadata": {},
   "outputs": [],
   "source": []
  },
  {
   "cell_type": "markdown",
   "metadata": {},
   "source": [
    "## rename columns\n",
    "\n",
    "rename the columns to:  \n",
    "`date, tmax, tmin, wind, rain24h, rain_cumulative`\n",
    "\n",
    "```python\n",
    "df.columns = ['date', 'tmax', 'tmin', 'wind', 'rain24h', 'rain_cumulative']\n",
    "df\n",
    "```"
   ]
  },
  {
   "cell_type": "code",
   "execution_count": null,
   "metadata": {},
   "outputs": [],
   "source": []
  },
  {
   "cell_type": "markdown",
   "metadata": {},
   "source": [
    "## a first plot!\n",
    "\n",
    "plot the minimum temperature:\n",
    "\n",
    "```python\n",
    "plt.plot(df['tmin'])\n",
    "```"
   ]
  },
  {
   "cell_type": "code",
   "execution_count": null,
   "metadata": {},
   "outputs": [],
   "source": []
  },
  {
   "cell_type": "markdown",
   "metadata": {},
   "source": [
    "## how to deal with dates\n",
    "\n",
    "We want the dates to appear on the horizontal axis.  \n",
    "Interpret 'date' column as a pandas datetime, see how it looks different from before  \n",
    "before: 01/09/20  \n",
    "after: 2020-09-01\n",
    "\n",
    "```python\n",
    "df['date'] = pd.to_datetime(df['date'], dayfirst=True)\n",
    "df\n",
    "```"
   ]
  },
  {
   "cell_type": "code",
   "execution_count": null,
   "metadata": {},
   "outputs": [],
   "source": []
  },
  {
   "cell_type": "markdown",
   "metadata": {},
   "source": [
    "## date as dataframe index\n",
    "\n",
    "Make 'date' the dataframe's index\n",
    "\n",
    "```python\n",
    "df = df.set_index('date')\n",
    "df\n",
    "```"
   ]
  },
  {
   "cell_type": "code",
   "execution_count": null,
   "metadata": {},
   "outputs": [],
   "source": []
  },
  {
   "cell_type": "markdown",
   "metadata": {},
   "source": [
    "## plot again, now with dates\n",
    "\n",
    "Plot minimum temperature, now we have dates on the horizontal axis\n",
    "\n",
    "```python\n",
    "plt.plot(df['tmin'])\n",
    "```"
   ]
  },
  {
   "cell_type": "code",
   "execution_count": null,
   "metadata": {},
   "outputs": [],
   "source": []
  },
  {
   "cell_type": "markdown",
   "metadata": {},
   "source": [
    "## we're getting there! the graph could look better\n",
    "\n",
    "Let's make the graph look better: labels, title, slanted dates, etc\n",
    "\n",
    "```python\n",
    "%matplotlib notebook\n",
    "# creates figure (the canvas) and the axis (rectangle where the plot sits)\n",
    "fig, ax = plt.subplots(1, figsize=(10,7))\n",
    "# two line plots\n",
    "ax.plot(df['tmin'], color=\"red\", label=\"Temp (min)\")\n",
    "ax.plot(df['tmax'], color=\"blue\", label=\"Temp (max)\")\n",
    "# axes labels and figure title\n",
    "ax.set_xlabel('date')\n",
    "ax.set_ylabel('temperature (°C)')\n",
    "ax.set_title('maximum and minimum temperatures')\n",
    "# some ticks adjustments\n",
    "ax.set_yticks([10,15,20,25])  # we can choose where to put ticks\n",
    "ax.grid(axis='y')         # makes horizontal lines\n",
    "plt.gcf().autofmt_xdate()  # makes slated dates\n",
    "# legend\n",
    "ax.legend(loc='upper right')\n",
    "# save png figure\n",
    "plt.savefig(\"temp_max_min.png\")\n",
    "```"
   ]
  },
  {
   "cell_type": "code",
   "execution_count": null,
   "metadata": {},
   "outputs": [],
   "source": []
  },
  {
   "cell_type": "markdown",
   "metadata": {},
   "source": [
    "## make the following figure\n",
    "\n",
    "Use the following function to plot bars for daily rainfall\n",
    "```python\n",
    "ax.bar(x_array, y_array)\n",
    "```\n",
    "\n",
    "Can you write yourself some lines of code that calculate the cumulative rainfall from the daily rainfall?\n",
    "\n",
    "![](hydrology_figures/cumulative_rainfall.png)\n",
    "\n",
    "* double click this markdown cell to reveal the code I used to produce the figure. **Don't** do this right away, try to go as far as you can!\n",
    "\n",
    "<!---\n",
    "```python\n",
    "# creates figure (the canvas) and the axis (rectangle where the plot sits)\n",
    "fig, ax = plt.subplots(1, figsize=(10,7))\n",
    "\n",
    "# line and bar plots\n",
    "ax.bar(df.index, df['rain24h'], color=\"blue\", label=\"daily rainfall\")\n",
    "\n",
    "# there are many ways of calculating the cumulative rain\n",
    "\n",
    "# method 1, use a for loop:\n",
    "# rain = df['rain24h'].to_numpy()\n",
    "# cumulative = rain * 0\n",
    "# for i in range(len(rain)):\n",
    "#     cumulative[i] = np.sum(rain[:i])\n",
    "# df['cumulative1'] = cumulative\n",
    "\n",
    "# method 2, use list comprehension:\n",
    "# rain = df['rain24h'].to_numpy()\n",
    "# cumulative = [np.sum(rain[:i]) for i in range(len(rain))]\n",
    "# df['cumulative2'] = cumulative\n",
    "\n",
    "# method 3, use existing functions:\n",
    "df['cumulative3'] = np.cumsum(df['rain24h'])\n",
    "\n",
    "ax.plot(df['cumulative3'], color=\"red\", label=\"cumulative rainfall\")\n",
    "# compare our cumulative rainfall with the downloaded data\n",
    "# ax.plot(df['rain_cumulative'], 'x')\n",
    "# axes labels and figure title\n",
    "ax.set_xlabel('date')\n",
    "ax.set_ylabel('rainfall (mm)')\n",
    "ax.set_title('daily and cumulative rainfall')\n",
    "ax.set_xlim(['2020-11-01','2021-02-28'])\n",
    "# some ticks adjustments\n",
    "plt.gcf().autofmt_xdate()  # makes slated dates\n",
    "# legend\n",
    "ax.legend(loc='upper left')\n",
    "# save png figure\n",
    "plt.savefig(\"cumulative_rainfall.png\")\n",
    "```\n",
    "-->"
   ]
  },
  {
   "cell_type": "code",
   "execution_count": null,
   "metadata": {},
   "outputs": [],
   "source": []
  },
  {
   "cell_type": "markdown",
   "metadata": {},
   "source": [
    "## make another figure\n",
    "\n",
    "In order to choose just a part of the time series, you can use the following:\n",
    "```python\n",
    "start_date = '2021-01-01'\n",
    "end_date = '2021-01-31'\n",
    "january = df[start_date:end_date]\n",
    "```\n",
    "\n",
    "![](hydrology_figures/average_max_temp.png)\n",
    "\n",
    "* double click this markdown cell to reveal the code I used to produce the figure. **Don't** do this right away, try to go as far as you can!\n",
    "\n",
    "<!---\n",
    "```python\n",
    "# creates figure (the canvas) and the axis (rectangle where the plot sits)\n",
    "fig, ax = plt.subplots(1, figsize=(10,7))\n",
    "# define date range\n",
    "start_date = '2021-01-01'\n",
    "end_date = '2021-01-31'\n",
    "january = df[start_date:end_date]['tmax']\n",
    "# plots\n",
    "ax.plot(january, color=\"red\", label=\"daily max\")\n",
    "ax.plot(january*0 + january.mean(), color=\"purple\", linestyle=\"--\", label=\"average daily max\")\n",
    "# axes labels and figure title\n",
    "ax.set_xlabel('date')\n",
    "ax.set_ylabel('temperature (°C)')\n",
    "ax.set_title('average daily maximum temperature for January 2021')\n",
    "# some ticks adjustments\n",
    "plt.gcf().autofmt_xdate()  # makes slated dates\n",
    "# legend\n",
    "ax.legend(loc='lower left')\n",
    "# save png figure\n",
    "plt.savefig(\"average_max_temp.png\")\n",
    "```\n",
    "-->"
   ]
  },
  {
   "cell_type": "code",
   "execution_count": null,
   "metadata": {},
   "outputs": [],
   "source": []
  },
  {
   "cell_type": "markdown",
   "metadata": {},
   "source": [
    "## one last figure for today\n",
    "\n",
    "Use the following code to create histograms with user-defined bins:\n",
    "```python\n",
    "b = np.arange(0, 56, 5)  # bins from 0 to 55, width = 5\n",
    "ax.hist(df['wind'], bins=b, density=True)\n",
    "```\n",
    "\n",
    "Play with the bins, see what happens. What does `density=True` do?\n",
    "\n",
    "![](hydrology_figures/wind-histogram.png)\n",
    "\n",
    "* double click this markdown cell to reveal the code I used to produce the figure. **Don't** do this right away, try to go as far as you can!\n",
    "\n",
    "<!---\n",
    "```python\n",
    "# creates figure (the canvas) and the axis (rectangle where the plot sits)\n",
    "fig, ax = plt.subplots(1, figsize=(10,7))\n",
    "# histogram\n",
    "b = np.arange(0, 56, 5)  # bins from 0 to 55, width = 5\n",
    "ax.hist(df['wind'], bins=b, density=True)\n",
    "# axes labels and figure title\n",
    "ax.set_xlabel('max wind speed (km/h)')\n",
    "ax.set_ylabel('frequency')\n",
    "ax.set_title('frequency of maximum wind speed')\n",
    "# save png figure\n",
    "plt.savefig(\"wind-histogram.png\")\n",
    "```\n",
    "-->"
   ]
  },
  {
   "cell_type": "code",
   "execution_count": null,
   "metadata": {},
   "outputs": [],
   "source": []
  },
  {
   "cell_type": "markdown",
   "metadata": {},
   "source": [
    "# homework\n",
    "\n",
    "Go back to the weather station website, download one year of data from 01.01.2020 to 31.12.2020 (24h data).  \n",
    "Make the following graph:\n",
    "- daily tmax and tmin\n",
    "- smoothed data for tmax and tmin\n",
    "\n",
    "In order to smooth the data with a 30 day window, use the following function:  \n",
    "`df['tmin'].rolling(30, center=True).mean()`  \n",
    "This means that you will take the mean of 30 days, and put the result in the center of this 30-day window.\n",
    "\n",
    "Play with this function, see what you can do with it. What happens when you change the size of the window? Why is the smoothed data shorter than the original data? See the [documentation](https://pandas.pydata.org/pandas-docs/stable/reference/api/pandas.DataFrame.rolling.html) for `rolling` to find more options.\n",
    "\n",
    "![](hydrology_figures/t_smoothed.png)\n",
    "\n",
    "* double click this markdown cell to reveal the code I used to produce the figure. **Don't** do this right away, try to go as far as you can!\n",
    "\n",
    "<!---\n",
    "```python\n",
    "fig, ax = plt.subplots(figsize=(10,7))\n",
    "df2 = pd.read_csv(\"1year.csv\", header=[4])\n",
    "df2['date'] = pd.to_datetime(df2['date'], dayfirst=True)\n",
    "df2 = df2.set_index('date')\n",
    "plt.plot(df2['tmax'], label='tmax', color=\"tab:red\")\n",
    "plt.plot(df2['tmin'], label='tmin', color=\"tab:blue\")\n",
    "tmin_smooth = df2['tmin'].rolling(30, center=True).mean()\n",
    "tmax_smooth = df2['tmax'].rolling(30, center=True).mean()\n",
    "plt.plot(tmax_smooth, label='tmax smoothed', color=\"tab:pink\", linestyle=\"--\", linewidth=3)\n",
    "plt.plot(tmin_smooth, label='tmin smoothed', color=\"tab:cyan\", linestyle=\"--\", linewidth=3)\n",
    "plt.legend()\n",
    "plt.savefig(\"t_smoothed.png\")\n",
    "```\n",
    "-->"
   ]
  },
  {
   "cell_type": "code",
   "execution_count": null,
   "metadata": {},
   "outputs": [],
   "source": []
  },
  {
   "cell_type": "code",
   "execution_count": null,
   "metadata": {},
   "outputs": [],
   "source": []
  }
 ],
 "metadata": {
  "kernelspec": {
   "display_name": "Python 3",
   "language": "python",
   "name": "python3"
  },
  "language_info": {
   "codemirror_mode": {
    "name": "ipython",
    "version": 3
   },
   "file_extension": ".py",
   "mimetype": "text/x-python",
   "name": "python",
   "nbconvert_exporter": "python",
   "pygments_lexer": "ipython3",
   "version": "3.7.4"
  }
 },
 "nbformat": 4,
 "nbformat_minor": 4
}
