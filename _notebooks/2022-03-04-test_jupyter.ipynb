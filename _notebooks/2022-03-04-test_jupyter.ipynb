{
 "cells": [
  {
   "cell_type": "markdown",
   "metadata": {},
   "source": [
    "# jupyter test\n",
    "> test\n",
    "\n",
    "- toc: false \n",
    "- badges: true\n",
    "- comments: false\n",
    "- categories: [jupyter]"
   ]
  },
  {
   "cell_type": "markdown",
   "metadata": {},
   "source": [
    "Inline math: $ax^2+bx+c=0$\n",
    "\n",
    "Another equation:\n",
    "\n",
    "$$\n",
    "x_{1,2} = \\frac{-b\\pm\\sqrt{b^2 - 4ac}}{2a}\n",
    "$$\n",
    "\n",
    "Aligned equations:\n",
    "\n",
    "$$\n",
    "\\begin{align}\n",
    "x &= A (\\cos \\theta - v \\sin \\theta)\\\\\n",
    "y &= B (\\sin \\theta + v \\cos \\theta)\\\\\n",
    "z &= C \\varepsilon v.\n",
    "\\end{align}\n",
    "$$\n",
    "\n",
    "now some code:"
   ]
  },
  {
   "cell_type": "code",
   "execution_count": null,
   "metadata": {},
   "outputs": [],
   "source": [
    "import numpy as np\n",
    "for i in np.arange(10):\n",
    "    print(np.sin(i))"
   ]
  }
 ],
 "metadata": {
  "kernelspec": {
   "display_name": "Python 3",
   "language": "python",
   "name": "python3"
  },
  "language_info": {
   "codemirror_mode": {
    "name": "ipython",
    "version": 3
   },
   "file_extension": ".py",
   "mimetype": "text/x-python",
   "name": "python",
   "nbconvert_exporter": "python",
   "pygments_lexer": "ipython3",
   "version": "3.7.4"
  }
 },
 "nbformat": 4,
 "nbformat_minor": 2
}
