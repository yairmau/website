{
 "cells": [
  {
   "cell_type": "markdown",
   "metadata": {},
   "source": [
    "# Interannual variability of precipitation\n",
    "> every year something new\n",
    "\n",
    "- toc: true \n",
    "- badges: true\n",
    "- comments: false\n",
    "- categories: [jupyter]"
   ]
  },
  {
   "cell_type": "markdown",
   "metadata": {},
   "source": [
    "![](hydrology_figures/monthly_tel_aviv_1940-1999.png)\n",
    "\n",
    "## hydrological year\n",
    "\n",
    "A time period of 12 months for which precipitation totals are measured. The hydrological year is designated by the calendar year in which it **ends**.  \n",
    "Let's define the hydrological year for Tel Aviv from 1 October to 30 September.\n",
    "\n",
    "האם אקלים הגשם שלנו משתנה\n",
    "> youtube: https://youtu.be/v0uNpj03Rk4\n",
    "\n",
    "![](hydrology_figures/annual_tel_aviv_with_mean.png)\n",
    "\n",
    "![](hydrology_figures/histogram_tel_aviv_with_mean_and_std.png)\n",
    "\n",
    "## coefficient of variation\n",
    "\n",
    "$\\langle{P}\\rangle=$ average precipitation  \n",
    "$\\sigma=$ standard deviation\n",
    "\n",
    "$$CV = \\frac{\\sigma}{\\langle{P}\\rangle}$$\n",
    "\n",
    "Assuming that the inter-annual distribution is a gaussian: 67% of the time, rainfall will vary +/- 30% from its long term average in Tel Aviv.\n",
    "\n",
    "Precipitation averages are [usually calculated for time intervals of 30 years](https://www.ncdc.noaa.gov/news/defining-climate-normals-new-ways).\n",
    "\n",
    "![](hydrology_figures/mean_tel_aviv_2_windows.png)\n",
    "\n",
    "![](hydrology_figures/mean_tel_aviv_4_windows.png)"
   ]
  },
  {
   "cell_type": "code",
   "execution_count": 3,
   "metadata": {},
   "outputs": [
    {
     "data": {
      "text/html": [
       "\n",
       "<div id=\"altair-viz-11213ebc9b2b41cc88f09b00719dc6db\"></div>\n",
       "<script type=\"text/javascript\">\n",
       "  (function(spec, embedOpt){\n",
       "    let outputDiv = document.currentScript.previousElementSibling;\n",
       "    if (outputDiv.id !== \"altair-viz-11213ebc9b2b41cc88f09b00719dc6db\") {\n",
       "      outputDiv = document.getElementById(\"altair-viz-11213ebc9b2b41cc88f09b00719dc6db\");\n",
       "    }\n",
       "    const paths = {\n",
       "      \"vega\": \"https://cdn.jsdelivr.net/npm//vega@5?noext\",\n",
       "      \"vega-lib\": \"https://cdn.jsdelivr.net/npm//vega-lib?noext\",\n",
       "      \"vega-lite\": \"https://cdn.jsdelivr.net/npm//vega-lite@4.8.1?noext\",\n",
       "      \"vega-embed\": \"https://cdn.jsdelivr.net/npm//vega-embed@6?noext\",\n",
       "    };\n",
       "\n",
       "    function loadScript(lib) {\n",
       "      return new Promise(function(resolve, reject) {\n",
       "        var s = document.createElement('script');\n",
       "        s.src = paths[lib];\n",
       "        s.async = true;\n",
       "        s.onload = () => resolve(paths[lib]);\n",
       "        s.onerror = () => reject(`Error loading script: ${paths[lib]}`);\n",
       "        document.getElementsByTagName(\"head\")[0].appendChild(s);\n",
       "      });\n",
       "    }\n",
       "\n",
       "    function showError(err) {\n",
       "      outputDiv.innerHTML = `<div class=\"error\" style=\"color:red;\">${err}</div>`;\n",
       "      throw err;\n",
       "    }\n",
       "\n",
       "    function displayChart(vegaEmbed) {\n",
       "      vegaEmbed(outputDiv, spec, embedOpt)\n",
       "        .catch(err => showError(`Javascript Error: ${err.message}<br>This usually means there's a typo in your chart specification. See the javascript console for the full traceback.`));\n",
       "    }\n",
       "\n",
       "    if(typeof define === \"function\" && define.amd) {\n",
       "      requirejs.config({paths});\n",
       "      require([\"vega-embed\"], displayChart, err => showError(`Error loading script: ${err.message}`));\n",
       "    } else if (typeof vegaEmbed === \"function\") {\n",
       "      displayChart(vegaEmbed);\n",
       "    } else {\n",
       "      loadScript(\"vega\")\n",
       "        .then(() => loadScript(\"vega-lite\"))\n",
       "        .then(() => loadScript(\"vega-embed\"))\n",
       "        .catch(showError)\n",
       "        .then(() => displayChart(vegaEmbed));\n",
       "    }\n",
       "  })({\"config\": {\"view\": {\"continuousWidth\": 400, \"continuousHeight\": 300}}, \"layer\": [{\"mark\": \"bar\", \"encoding\": {\"opacity\": {\"condition\": {\"value\": 1, \"selection\": \"selector001\"}, \"value\": 0.2}, \"x\": {\"type\": \"temporal\", \"axis\": {\"title\": \"date\"}, \"field\": \"DATE\"}, \"y\": {\"type\": \"quantitative\", \"axis\": {\"title\": \"annual precipitation (mm) and average\"}, \"field\": \"rain (mm)\"}}, \"height\": 400, \"selection\": {\"selector001\": {\"type\": \"interval\", \"encodings\": [\"x\"]}}, \"title\": \"Select year range and drag for rolling average of annual precipitation in Tel Aviv\", \"width\": 600}, {\"mark\": {\"type\": \"rule\", \"color\": \"orange\"}, \"encoding\": {\"size\": {\"value\": 3}, \"y\": {\"type\": \"quantitative\", \"aggregate\": \"mean\", \"field\": \"rain (mm)\"}}, \"transform\": [{\"filter\": {\"selection\": \"selector001\"}}]}], \"data\": {\"name\": \"data-2d96d987e1227deba5d77799c3c22c8b\"}, \"$schema\": \"https://vega.github.io/schema/vega-lite/v4.8.1.json\", \"datasets\": {\"data-2d96d987e1227deba5d77799c3c22c8b\": [{\"DATE\": \"1940-09-30T00:00:00\", \"rain (mm)\": 474.9}, {\"DATE\": \"1941-09-30T00:00:00\", \"rain (mm)\": 447.8}, {\"DATE\": \"1942-09-30T00:00:00\", \"rain (mm)\": 372.90000000000003}, {\"DATE\": \"1943-09-30T00:00:00\", \"rain (mm)\": 618.2}, {\"DATE\": \"1944-09-30T00:00:00\", \"rain (mm)\": 440.49999999999994}, {\"DATE\": \"1945-09-30T00:00:00\", \"rain (mm)\": 810.6}, {\"DATE\": \"1946-09-30T00:00:00\", \"rain (mm)\": 577.3}, {\"DATE\": \"1947-09-30T00:00:00\", \"rain (mm)\": 327.8}, {\"DATE\": \"1948-09-30T00:00:00\", \"rain (mm)\": 484.5}, {\"DATE\": \"1949-09-30T00:00:00\", \"rain (mm)\": 566.0999999999999}, {\"DATE\": \"1950-09-30T00:00:00\", \"rain (mm)\": 844.1000000000001}, {\"DATE\": \"1951-09-30T00:00:00\", \"rain (mm)\": 343.79999999999995}, {\"DATE\": \"1952-09-30T00:00:00\", \"rain (mm)\": 668.9000000000001}, {\"DATE\": \"1953-09-30T00:00:00\", \"rain (mm)\": 564.5}, {\"DATE\": \"1954-09-30T00:00:00\", \"rain (mm)\": 636.8000000000001}, {\"DATE\": \"1955-09-30T00:00:00\", \"rain (mm)\": 524.4000000000001}, {\"DATE\": \"1956-09-30T00:00:00\", \"rain (mm)\": 814.8}, {\"DATE\": \"1957-09-30T00:00:00\", \"rain (mm)\": 568.4}, {\"DATE\": \"1958-09-30T00:00:00\", \"rain (mm)\": 459.80000000000007}, {\"DATE\": \"1959-09-30T00:00:00\", \"rain (mm)\": 378.4}, {\"DATE\": \"1960-09-30T00:00:00\", \"rain (mm)\": 301.7}, {\"DATE\": \"1961-09-30T00:00:00\", \"rain (mm)\": 578.9}, {\"DATE\": \"1962-09-30T00:00:00\", \"rain (mm)\": 658.7}, {\"DATE\": \"1963-09-30T00:00:00\", \"rain (mm)\": 392.1000000000001}, {\"DATE\": \"1964-09-30T00:00:00\", \"rain (mm)\": 622.7}, {\"DATE\": \"1965-09-30T00:00:00\", \"rain (mm)\": 755.5}, {\"DATE\": \"1966-09-30T00:00:00\", \"rain (mm)\": 331.0}, {\"DATE\": \"1967-09-30T00:00:00\", \"rain (mm)\": 663.6}, {\"DATE\": \"1968-09-30T00:00:00\", \"rain (mm)\": 412.4}, {\"DATE\": \"1969-09-30T00:00:00\", \"rain (mm)\": 669.4}, {\"DATE\": \"1970-09-30T00:00:00\", \"rain (mm)\": 415.1}, {\"DATE\": \"1971-09-30T00:00:00\", \"rain (mm)\": 382.0}, {\"DATE\": \"1972-09-30T00:00:00\", \"rain (mm)\": 620.3999999999999}, {\"DATE\": \"1973-09-30T00:00:00\", \"rain (mm)\": 440.49999999999994}, {\"DATE\": \"1974-09-30T00:00:00\", \"rain (mm)\": 697.5}, {\"DATE\": \"1975-09-30T00:00:00\", \"rain (mm)\": 581.7}, {\"DATE\": \"1976-09-30T00:00:00\", \"rain (mm)\": 389.8}, {\"DATE\": \"1977-09-30T00:00:00\", \"rain (mm)\": 606.8}, {\"DATE\": \"1978-09-30T00:00:00\", \"rain (mm)\": 484.3}, {\"DATE\": \"1979-09-30T00:00:00\", \"rain (mm)\": 324.69999999999993}, {\"DATE\": \"1980-09-30T00:00:00\", \"rain (mm)\": 617.6000000000001}, {\"DATE\": \"1981-09-30T00:00:00\", \"rain (mm)\": 490.4}, {\"DATE\": \"1982-09-30T00:00:00\", \"rain (mm)\": 446.0}, {\"DATE\": \"1983-09-30T00:00:00\", \"rain (mm)\": 602.4}, {\"DATE\": \"1984-09-30T00:00:00\", \"rain (mm)\": 270.29999999999995}, {\"DATE\": \"1985-09-30T00:00:00\", \"rain (mm)\": 343.2}, {\"DATE\": \"1986-09-30T00:00:00\", \"rain (mm)\": 360.20000000000005}, {\"DATE\": \"1987-09-30T00:00:00\", \"rain (mm)\": 573.6}, {\"DATE\": \"1988-09-30T00:00:00\", \"rain (mm)\": 659.6}, {\"DATE\": \"1989-09-30T00:00:00\", \"rain (mm)\": 488.90000000000003}, {\"DATE\": \"1990-09-30T00:00:00\", \"rain (mm)\": 648.5}, {\"DATE\": \"1991-09-30T00:00:00\", \"rain (mm)\": 468.9}, {\"DATE\": \"1992-09-30T00:00:00\", \"rain (mm)\": 1064.4}, {\"DATE\": \"1993-09-30T00:00:00\", \"rain (mm)\": 577.9}, {\"DATE\": \"1994-09-30T00:00:00\", \"rain (mm)\": 350.9}, {\"DATE\": \"1995-09-30T00:00:00\", \"rain (mm)\": 804.6999999999999}, {\"DATE\": \"1996-09-30T00:00:00\", \"rain (mm)\": 488.20000000000005}, {\"DATE\": \"1997-09-30T00:00:00\", \"rain (mm)\": 619.1}, {\"DATE\": \"1998-09-30T00:00:00\", \"rain (mm)\": 489.6}, {\"DATE\": \"1999-09-30T00:00:00\", \"rain (mm)\": 226.50000000000003}]}}, {\"mode\": \"vega-lite\"});\n",
       "</script>"
      ],
      "text/plain": [
       "alt.LayerChart(...)"
      ]
     },
     "execution_count": 3,
     "metadata": {},
     "output_type": "execute_result"
    }
   ],
   "source": [
    "#collapse-hide\n",
    "\n",
    "import altair as alt\n",
    "import pandas as pd\n",
    "\n",
    "df = pd.read_csv(\"TEL_AVIV_READING_monthly.csv\", sep=\",\")\n",
    "# make 'DATE' the dataframe index\n",
    "df['DATE'] = pd.to_datetime(df['DATE'])\n",
    "df = df.set_index('DATE')\n",
    "\n",
    "df_year_all = df['PRCP'].resample('A-SEP').sum().to_frame()  # annual frequency, anchored end of September\n",
    "df_year_all.columns = ['rain (mm)'] # rename 'PRCP' column to 'rain (mm)'\n",
    "df_year = df_year_all.iloc[:-1]  # exclude last row\n",
    "\n",
    "# Altair only recognizes column data; it ignores index values.\n",
    "# You can plot the index data by first resetting the index\n",
    "# I know that I've just made 'DATE' the index, but I want to have this here nonetheless so I can refer to this in the future\n",
    "source = df_year.reset_index()\n",
    "brush = alt.selection(type='interval', encodings=['x'])\n",
    "\n",
    "# T: temporal, a time or date value\n",
    "# Q: quantitative, a continuous real-valued quantity\n",
    "# https://altair-viz.github.io/user_guide/encoding.html#encoding-data-types\n",
    "bars = alt.Chart().mark_bar().encode(\n",
    "    x=alt.X('DATE:T', axis=alt.Axis(title='date')),\n",
    "    y=alt.Y('rain (mm):Q',  axis=alt.Axis(title='annual precipitation (mm) and average')),\n",
    "    opacity=alt.condition(brush, alt.OpacityValue(1), alt.OpacityValue(0.2)),\n",
    ").add_selection(\n",
    "    brush\n",
    ").properties(\n",
    "    title='Select year range and drag for rolling average of annual precipitation in Tel Aviv'\n",
    ").properties(\n",
    "    width=600,\n",
    "    height=400\n",
    ")\n",
    "\n",
    "line = alt.Chart().mark_rule(color='orange').encode(\n",
    "    y='mean(rain (mm)):Q',\n",
    "    size=alt.SizeValue(3)\n",
    ").transform_filter(\n",
    "    brush\n",
    ")\n",
    "\n",
    "alt.layer(bars, line, data=source)"
   ]
  },
  {
   "cell_type": "markdown",
   "metadata": {},
   "source": [
    "![](hydrology_figures/rolling_average_tel_aviv.png)"
   ]
  },
  {
   "cell_type": "code",
   "execution_count": null,
   "metadata": {},
   "outputs": [],
   "source": []
  }
 ],
 "metadata": {
  "kernelspec": {
   "display_name": "Python 3",
   "language": "python",
   "name": "python3"
  },
  "language_info": {
   "codemirror_mode": {
    "name": "ipython",
    "version": 3
   },
   "file_extension": ".py",
   "mimetype": "text/x-python",
   "name": "python",
   "nbconvert_exporter": "python",
   "pygments_lexer": "ipython3",
   "version": "3.7.4"
  }
 },
 "nbformat": 4,
 "nbformat_minor": 2
}
