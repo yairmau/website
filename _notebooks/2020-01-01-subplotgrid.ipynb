{
 "cells": [
  {
   "cell_type": "markdown",
   "metadata": {},
   "source": [
    "# Fancy subplot grid\n",
    "> GridSpec is your friend\n",
    "\n",
    "- toc: true \n",
    "- badges: true\n",
    "- comments: false\n",
    "- categories: [jupyter]"
   ]
  },
  {
   "cell_type": "markdown",
   "metadata": {},
   "source": [
    "<img src=\"python_figures/subplot-grid.png\" alt=\"least squares\" width=\"600\">\n",
    "\n",
    "## Introduction\n",
    "\n",
    "With GridSpec you can create any combination of panels\n",
    "\n",
    "## The code"
   ]
  },
  {
   "cell_type": "code",
   "execution_count": 1,
   "metadata": {},
   "outputs": [],
   "source": [
    "import numpy as np\n",
    "import matplotlib\n",
    "import matplotlib.pyplot as plt\n",
    "import matplotlib.gridspec as gridspec\n",
    "from matplotlib.ticker import FuncFormatter"
   ]
  },
  {
   "cell_type": "code",
   "execution_count": 2,
   "metadata": {},
   "outputs": [],
   "source": [
    "# http://wiki.scipy.org/Cookbook/Matplotlib/LaTeX_Examples\n",
    "# this is a latex constant, don't change it.\n",
    "pts_per_inch = 72.27\n",
    "# write \"\\the\\textwidth\" (or \"\\showthe\\columnwidth\" for a 2 collumn text)\n",
    "text_width_in_pts = 246.0\n",
    "# inside a figure environment in latex, the result will be on the\n",
    "# dvi/pdf next to the figure. See url above.\n",
    "text_width_in_inches = text_width_in_pts / pts_per_inch\n",
    "# make rectangles with a nice proportion\n",
    "golden_ratio = 0.618\n",
    "# figure.png or figure.eps will be intentionally larger, because it is prettier\n",
    "inverse_latex_scale = 2\n",
    "# when compiling latex code, use\n",
    "# \\includegraphics[scale=(1/inverse_latex_scale)]{figure}\n",
    "# we want the figure to occupy 2/3 (for example) of the text width\n",
    "fig_proportion = (3.0 / 3.0)\n",
    "csize = inverse_latex_scale * fig_proportion * text_width_in_inches\n",
    "# always 1.0 on the first argument\n",
    "fig_size = (1.0 * csize, 1.1 * csize)\n",
    "# find out the fontsize of your latex text, and put it here\n",
    "text_size = inverse_latex_scale * 12\n",
    "tick_size = inverse_latex_scale * 8\n",
    "# learn how to configure:\n",
    "# http://matplotlib.sourceforge.net/users/customizing.html\n",
    "params = {'backend': 'ps',\n",
    "          'axes.labelsize': text_size,\n",
    "          'legend.fontsize': tick_size,\n",
    "          'legend.handlelength': 2.5,\n",
    "          'legend.borderaxespad': 0,\n",
    "          'xtick.labelsize': tick_size,\n",
    "          'ytick.labelsize': tick_size,\n",
    "          'font.family': 'serif',\n",
    "          'font.size': text_size,\n",
    "          # Times, Palatino, New Century Schoolbook,\n",
    "          # Bookman, Computer Modern Roman\n",
    "          'font.serif': ['Times'],\n",
    "          'ps.usedistiller': 'xpdf',\n",
    "          'text.usetex': True,\n",
    "          'figure.figsize': fig_size,\n",
    "          # include here any neede package for latex\n",
    "          'text.latex.preamble': [r'\\usepackage{amsmath}',\n",
    "                                  ],\n",
    "          }\n",
    "plt.rcParams.update(params)\n",
    "plt.ioff()\n",
    "plt.clf()\n",
    "\n",
    "# figsize accepts only inches.\n",
    "fig = plt.figure(1, figsize=fig_size)\n",
    "gs = gridspec.GridSpec(3, 2, width_ratios=[1,0.5], height_ratios=[1,0.7,0.3])\n",
    "gs.update(left=0.16, right=0.86,top=0.92, bottom=0.08, hspace=0.05, wspace=0.05)"
   ]
  },
  {
   "cell_type": "markdown",
   "metadata": {},
   "source": [
    "subplot a"
   ]
  },
  {
   "cell_type": "code",
   "execution_count": 3,
   "metadata": {},
   "outputs": [],
   "source": [
    "ax0 = plt.subplot(gs[0, :])\n",
    "\n",
    "heaviside = lambda x: 0.5 * (np.sign(x) + 1)\n",
    "x = np.arange(0, 10.01, 0.01)\n",
    "ax0.plot(x, heaviside(x - 2), color='purple', lw=3)\n",
    "ax0.text(2.5, 1.1, r\"$\\longleftarrow$ heaviside\")\n",
    "\n",
    "# y ticks as a percentage\n",
    "ax0.set_yticks(np.arange(-0.5, 2.0, 0.5))\n",
    "def to_percent(y, position):\n",
    "    # Ignore the passed in position. This has the effect of scaling the default\n",
    "    # tick locations.\n",
    "    s = \"{:+.0f}\".format(y * 100)  # str(100 * y)\n",
    "    # The percent symbol needs escaping in latex\n",
    "    if matplotlib.rcParams['text.usetex'] is True:\n",
    "        return s + r'$\\%$'\n",
    "    else:\n",
    "        return s + '%'\n",
    "# Create the formatter using the function to_percent. This multiplies all the\n",
    "# default labels by 100, making them all percentages\n",
    "formatter = FuncFormatter(to_percent)\n",
    "# Set the formatter\n",
    "ax0.yaxis.set_major_formatter(formatter)\n",
    "ax0.set_ylabel(\"heaviside, percentage\")\n",
    "\n",
    "# x ticks on top\n",
    "ax0.axis([x.min(), x.max(), -0.5, 1.5])\n",
    "ax0.xaxis.tick_top()\n",
    "ax0.set_xlabel(r\"x labels on top\")\n",
    "ax0.xaxis.set_label_position(\"top\")\n",
    "\n",
    "# transAxes makes position relative to axes\n",
    "ax0.text(0.97, 0.97, r\"\\textbf{a}\", transform=ax0.transAxes,\n",
    "         horizontalalignment='right', verticalalignment='top')\n",
    "\n",
    "# copy window with same x axis (y will be different)\n",
    "ax0b = ax0.twinx()\n",
    "ax0b.plot(x, np.tanh(x - 5), color=\"green\", linewidth=3)\n",
    "ax0b.axis([x.min(), x.max(), -1.1, 2.5])\n",
    "ax0b.text(5.5, 0, r\"tanh $\\longrightarrow$\")\n",
    "ax0b.set_ylabel(r'tanh, offset label')\n",
    "ax0b.yaxis.set_label_coords(1.1, 0.70)"
   ]
  },
  {
   "cell_type": "markdown",
   "metadata": {},
   "source": [
    "subplot b"
   ]
  },
  {
   "cell_type": "code",
   "execution_count": 4,
   "metadata": {},
   "outputs": [
    {
     "data": {
      "text/plain": [
       "Text(0.97, 0.97, '\\\\textbf{b}')"
      ]
     },
     "execution_count": 4,
     "metadata": {},
     "output_type": "execute_result"
    }
   ],
   "source": [
    "ax10 = plt.subplot(gs[1, 0])\n",
    "\n",
    "x = np.arange(-5, 5, 0.01)\n",
    "y = np.exp(-x)\n",
    "ax10.plot(x, y, color=\"orange\", lw=3)\n",
    "ax10.set_yscale('log', basey=2)\n",
    "ax10.set_yticks(2.0 ** np.arange(-7, 7, 3))\n",
    "ax10.text(1.0, 1, r\"$y=e^{-x}$\")\n",
    "ax10.set_xticks(np.arange(-5, 6, 2))\n",
    "ax10.set_xticklabels(np.arange(-5, 6, 2), y=0.15)\n",
    "ax10.get_yaxis().set_tick_params(direction='out')\n",
    "ax10.set_ylabel(\"log scale base 2\", labelpad=15)\n",
    "ax10.text(0.97, 0.97, r\"\\textbf{b}\", transform=ax10.transAxes,\n",
    "          horizontalalignment='right', verticalalignment='top')"
   ]
  },
  {
   "cell_type": "markdown",
   "metadata": {},
   "source": [
    "subplot c"
   ]
  },
  {
   "cell_type": "code",
   "execution_count": 5,
   "metadata": {},
   "outputs": [
    {
     "data": {
      "text/plain": [
       "Text(0.97, 0.97, '\\\\textbf{c}')"
      ]
     },
     "execution_count": 5,
     "metadata": {},
     "output_type": "execute_result"
    }
   ],
   "source": [
    "ax11 = plt.subplot(gs[1, 1])\n",
    "\n",
    "x = np.arange(1.0, np.e ** 4, 0.01)\n",
    "y = x ** (-0.8)\n",
    "ax11.plot(x, y, color=\"cyan\", lw=3)\n",
    "ax11.text(2, 1, r\"$y=x^{-0.8}$\", fontsize=tick_size)\n",
    "ax11.loglog(x, y, basex=np.e, basey=np.e)\n",
    "xt = np.exp(np.arange(1, 4, 1))\n",
    "yt = np.pi ** (np.arange(-3, 2, 1))\n",
    "ax11.set_xticks(xt)\n",
    "ax11.set_xticklabels(xt, y=0.15)\n",
    "ax11.set_yticks(yt)\n",
    "\n",
    "\n",
    "def ticks_e(y, pos):   # base e\n",
    "    return r'$e^{:.0f}$'.format(np.log(y))\n",
    "\n",
    "\n",
    "def ticks_pi(y, pos):  # base pi, why not?\n",
    "    return r'$\\pi^{%+.0f}$'%(np.log(y)/np.log(np.pi))\n",
    "\n",
    "\n",
    "ax11.xaxis.set_major_formatter(FuncFormatter(ticks_e))\n",
    "ax11.yaxis.set_major_formatter(FuncFormatter(ticks_pi))\n",
    "ax11.yaxis.tick_right()\n",
    "ax11.yaxis.set_label_position(\"right\")\n",
    "ax11.set_ylabel(\"right side\", labelpad=10)\n",
    "ax11.text(0.97, 0.97, r\"\\textbf{c}\", transform=ax11.transAxes,\n",
    "          horizontalalignment='right', verticalalignment='top')"
   ]
  },
  {
   "cell_type": "markdown",
   "metadata": {},
   "source": [
    "subplot d"
   ]
  },
  {
   "cell_type": "code",
   "execution_count": 6,
   "metadata": {},
   "outputs": [
    {
     "data": {
      "text/plain": [
       "Text(0.97, 0.97, '\\\\textbf{d}')"
      ]
     },
     "execution_count": 6,
     "metadata": {},
     "output_type": "execute_result"
    }
   ],
   "source": [
    "ax20 = plt.subplot(gs[2, 0])\n",
    "\n",
    "ax20.axis([0, 1, 0, 1])\n",
    "ax20.set_xticks(np.arange(0, 1.1, 0.2))\n",
    "ax20.set_xticklabels([\"January\", \"February\",\n",
    "                      \"March\", \"April\",\n",
    "                      \"May\", \"June\"],\n",
    "                      rotation=30, horizontalalignment=\"right\")\n",
    "ax20.set_yticks([])\n",
    "ax20.text(0.97, 0.97, r\"\\textbf{d}\", transform=ax20.transAxes,\n",
    "          horizontalalignment='right', verticalalignment='top')"
   ]
  },
  {
   "cell_type": "markdown",
   "metadata": {},
   "source": [
    "subplot e"
   ]
  },
  {
   "cell_type": "code",
   "execution_count": 7,
   "metadata": {},
   "outputs": [
    {
     "data": {
      "text/plain": [
       "Text(0.97, 0.97, '\\\\textbf{e}')"
      ]
     },
     "execution_count": 7,
     "metadata": {},
     "output_type": "execute_result"
    }
   ],
   "source": [
    "ax21 = plt.subplot(gs[2, 1])\n",
    "\n",
    "ax21.set_xticks([])\n",
    "ax21.set_yticks([])\n",
    "ax21.axis([0, 1, 0, 1])\n",
    "ax21.text(0.97, 0.97, r\"\\textbf{e}\", transform=ax21.transAxes,\n",
    "          horizontalalignment='right', verticalalignment='top')"
   ]
  },
  {
   "cell_type": "code",
   "execution_count": 8,
   "metadata": {},
   "outputs": [
    {
     "data": {
      "image/png": "[encoded data removed]",
      "text/plain": [
       "<Figure size 490.162x539.178 with 6 Axes>"
      ]
     },
     "execution_count": 8,
     "metadata": {},
     "output_type": "execute_result"
    }
   ],
   "source": [
    "%matplotlib notebook\n",
    "fig.savefig(\"./python_figures/subplot-grid.png\", dpi=300)\n",
    "fig"
   ]
  }
 ],
 "metadata": {
  "anaconda-cloud": {},
  "kernelspec": {
   "display_name": "Python 3",
   "language": "python",
   "name": "python3"
  },
  "language_info": {
   "codemirror_mode": {
    "name": "ipython",
    "version": 3
   },
   "file_extension": ".py",
   "mimetype": "text/x-python",
   "name": "python",
   "nbconvert_exporter": "python",
   "pygments_lexer": "ipython3",
   "version": "3.7.4"
  }
 },
 "nbformat": 4,
 "nbformat_minor": 1
}
