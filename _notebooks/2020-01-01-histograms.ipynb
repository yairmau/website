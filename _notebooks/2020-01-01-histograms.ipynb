{
 "cells": [
  {
   "cell_type": "markdown",
   "metadata": {},
   "source": [
    "# Fun with histograms\n",
    "> 1d and 2d histograms\n",
    "\n",
    "- toc: true \n",
    "- badges: true\n",
    "- comments: false\n",
    "- categories: [jupyter]"
   ]
  },
  {
   "cell_type": "markdown",
   "metadata": {},
   "source": [
    "<img src=\"python_figures/histograms.png\" alt=\"least squares\" width=\"600\">\n",
    "\n",
    "## Introduction\n",
    "\n",
    "This code produces the figure above. I tried to showcase a few things one can do with 1d and 2d histograms.\n"
   ]
  },
  {
   "cell_type": "markdown",
   "metadata": {},
   "source": [
    "## The code"
   ]
  },
  {
   "cell_type": "code",
   "execution_count": 1,
   "metadata": {},
   "outputs": [],
   "source": [
    "import matplotlib.pyplot as plt\n",
    "import numpy as np\n",
    "import matplotlib.gridspec as gridspec\n",
    "import scipy.special\n",
    "from scipy.optimize import curve_fit"
   ]
  },
  {
   "cell_type": "markdown",
   "metadata": {},
   "source": [
    "make graph look pretty"
   ]
  },
  {
   "cell_type": "code",
   "execution_count": 2,
   "metadata": {},
   "outputs": [],
   "source": [
    "# http://wiki.scipy.org/Cookbook/Matplotlib/LaTeX_Examples\n",
    "# this is a latex constant, don't change it.\n",
    "pts_per_inch = 72.27\n",
    "# write \"\\the\\textwidth\" (or \"\\showthe\\columnwidth\" for a 2 collumn text)\n",
    "text_width_in_pts = 450.0\n",
    "# inside a figure environment in latex, the result will be on the\n",
    "# dvi/pdf next to the figure. See url above.\n",
    "text_width_in_inches = text_width_in_pts / pts_per_inch\n",
    "# make rectangles with a nice proportion\n",
    "golden_ratio = 0.618\n",
    "# figure.png or figure.eps will be intentionally larger, because it is prettier\n",
    "inverse_latex_scale = 2\n",
    "# when compiling latex code, use\n",
    "# \\includegraphics[scale=(1/inverse_latex_scale)]{figure}\n",
    "# we want the figure to occupy 2/3 (for example) of the text width\n",
    "fig_proportion = (3.0 / 3.0)\n",
    "csize = inverse_latex_scale * fig_proportion * text_width_in_inches\n",
    "# always 1.0 on the first argument\n",
    "fig_size = (1.0 * csize, 0.5 * csize)\n",
    "# find out the fontsize of your latex text, and put it here\n",
    "text_size = inverse_latex_scale * 12\n",
    "label_size = inverse_latex_scale * 10\n",
    "tick_size = inverse_latex_scale * 8\n",
    "# learn how to configure:\n",
    "# http://matplotlib.sourceforge.net/users/customizing.html\n",
    "params = {'backend': 'ps',\n",
    "          'axes.labelsize': 16,\n",
    "          'legend.fontsize': tick_size,\n",
    "          'legend.handlelength': 2.5,\n",
    "          'legend.borderaxespad': 0,\n",
    "          'axes.labelsize': label_size,\n",
    "          'xtick.labelsize': tick_size,\n",
    "          'ytick.labelsize': tick_size,\n",
    "          'font.family': 'serif',\n",
    "          'font.size': text_size,\n",
    "#           'font.serif': ['Computer Modern Roman'],\n",
    "          'ps.usedistiller': 'xpdf',\n",
    "          'text.usetex': True,\n",
    "          'figure.figsize': fig_size,\n",
    "          }\n",
    "plt.rcParams.update(params)\n",
    "plt.ioff()\n",
    "fig = plt.figure(1, figsize=fig_size)  # figsize accepts only inches."
   ]
  },
  {
   "cell_type": "markdown",
   "metadata": {},
   "source": [
    "Panels on the left of the figure"
   ]
  },
  {
   "cell_type": "code",
   "execution_count": 3,
   "metadata": {},
   "outputs": [],
   "source": [
    "gs = gridspec.GridSpec(2, 2, width_ratios=[1, 0.2], height_ratios=[0.2, 1])\n",
    "gs.update(left=0.05, right=0.50, top=0.95, bottom=0.10,\n",
    "          hspace=0.02, wspace=0.02)\n",
    "\n",
    "sigma = 1.0  # standard deviation (spread)\n",
    "mu = 0.0  # mean (center) of the distribution\n",
    "x = np.random.normal(loc=mu, scale=sigma, size=5000)\n",
    "k = 2.0  # shape\n",
    "theta = 1.0  # scale\n",
    "y = np.random.gamma(shape=k, scale=theta, size=5000)\n",
    "\n",
    "# bottom left panel\n",
    "ax10 = plt.subplot(gs[1, 0])\n",
    "counts, xedges, yedges, image = ax10.hist2d(x, y, bins=40, cmap=\"YlOrRd\",\n",
    "                                            density=True)\n",
    "dx = xedges[1] - xedges[0]\n",
    "dy = yedges[1] - yedges[0]\n",
    "xvec = xedges[:-1] + dx / 2\n",
    "yvec = yedges[:-1] + dy / 2\n",
    "ax10.set_xlabel(r\"$x$\")\n",
    "ax10.set_ylabel(r\"$y$\", rotation=\"horizontal\")\n",
    "ax10.text(-2, 8, r\"$p(x,y)$\")\n",
    "ax10.set_xlim([xedges.min(), xedges.max()])\n",
    "ax10.set_ylim([yedges.min(), yedges.max()])\n",
    "\n",
    "# top left panel\n",
    "ax00 = plt.subplot(gs[0, 0])\n",
    "gaussian = (1.0 / np.sqrt(2.0 * np.pi * sigma ** 2)) * \\\n",
    "    np.exp(-((xvec - mu) ** 2) / (2.0 * sigma ** 2))\n",
    "xdist = counts.sum(axis=1) * dy\n",
    "ax00.bar(xvec, xdist, width=dx, fill=False,\n",
    "         edgecolor='black', alpha=0.8)\n",
    "ax00.plot(xvec, gaussian, color='black')\n",
    "ax00.set_xlim([xedges.min(), xedges.max()])\n",
    "ax00.set_xticklabels([])\n",
    "ax00.set_yticks([])\n",
    "ax00.set_xlabel(\"Normal distribution\", fontsize=16)\n",
    "ax00.xaxis.set_label_position(\"top\")\n",
    "ax00.set_ylabel(r\"$p(x)$\", rotation=\"horizontal\", labelpad=20)\n",
    "\n",
    "# bottom right panel\n",
    "ax11 = plt.subplot(gs[1, 1])\n",
    "gamma_dist = yvec ** (k - 1.0) * np.exp(-yvec / theta) / \\\n",
    "    (theta ** k * scipy.special.gamma(k))\n",
    "ydist = counts.sum(axis=0) * dx\n",
    "ax11.barh(yvec, ydist, height=dy, fill=False,\n",
    "          edgecolor='black', alpha=0.8)\n",
    "ax11.plot(gamma_dist, yvec, color='black')\n",
    "ax11.set_ylim([yedges.min(), yedges.max()])\n",
    "ax11.set_xticks([])\n",
    "ax11.set_yticklabels([])\n",
    "ax11.set_ylabel(\"Gamma distribution\", fontsize=16)\n",
    "ax11.yaxis.set_label_position(\"right\")\n",
    "ax11.set_xlabel(r\"$p(y)$\")\n",
    "ax11.xaxis.set_label_position(\"top\")"
   ]
  },
  {
   "cell_type": "markdown",
   "metadata": {},
   "source": [
    "Panels on the right of the figure"
   ]
  },
  {
   "cell_type": "code",
   "execution_count": 4,
   "metadata": {},
   "outputs": [
    {
     "data": {
      "text/plain": [
       "Text(0.5, 0, '\\\\texttt{np.histogram};\\\\quad \\\\texttt{plt.bar}')"
      ]
     },
     "execution_count": 4,
     "metadata": {},
     "output_type": "execute_result"
    }
   ],
   "source": [
    "gs2 = gridspec.GridSpec(2, 1, width_ratios=[1], height_ratios=[1, 1])\n",
    "gs2.update(left=0.60, right=0.98, top=0.95, bottom=0.10,\n",
    "           hspace=0.02, wspace=0.05)\n",
    "\n",
    "x = np.random.normal(loc=0, scale=1, size=1000)\n",
    "y = np.random.gamma(shape=2, size=1000)\n",
    "\n",
    "bx10 = plt.subplot(gs2[1, 0])\n",
    "bx00 = plt.subplot(gs2[0, 0])\n",
    "\n",
    "N = 100\n",
    "a = np.random.gamma(shape=5, size=N)\n",
    "my_bins = np.arange(0,15,1.5)\n",
    "n1, bins1, patches1 = bx00.hist(a, bins=my_bins, density=True,\n",
    "                                histtype='stepfilled', alpha=0.2, hatch='/')\n",
    "bx00.set_xlim([0, 15])\n",
    "bx00.set_ylim([0, 0.28])\n",
    "bx00.set_xticklabels([])\n",
    "bx00.set_xlabel(r\"\\texttt{plt.hist}\")\n",
    "bx00.xaxis.set_label_position(\"top\")\n",
    "\n",
    "# the following way is equivalent to plt.hist, but it gives\n",
    "# the user more flexibility when plotting and analysing the results\n",
    "n2, bins2 = np.histogram(a, bins=my_bins, density=True)\n",
    "wid = bins2[1] - bins2[0]\n",
    "red, = bx10.plot(bins2[:-1]+wid/2, n2, marker='o', color='red')\n",
    "bx10.bar(bins2[:-1], n2, width=wid, fill=False,\n",
    "         edgecolor='black', linewidth=3, alpha=0.8, align=\"edge\")\n",
    "bx10.set_xlim([0, 15])\n",
    "bx10.set_ylim([0, 0.28])\n",
    "bx10.set_xlabel(r\"\\texttt{np.histogram};\\quad \\texttt{plt.bar}\")"
   ]
  },
  {
   "cell_type": "markdown",
   "metadata": {},
   "source": [
    "best fit"
   ]
  },
  {
   "cell_type": "code",
   "execution_count": 5,
   "metadata": {},
   "outputs": [
    {
     "name": "stderr",
     "output_type": "stream",
     "text": [
      "/Users/yairmau/opt/anaconda3/lib/python3.7/site-packages/ipykernel_launcher.py:4: RuntimeWarning: invalid value encountered in double_scalars\n",
      "  after removing the cwd from sys.path.\n"
     ]
    },
    {
     "data": {
      "text/plain": [
       "<matplotlib.legend.Legend at 0x7fde860d7ed0>"
      ]
     },
     "execution_count": 5,
     "metadata": {},
     "output_type": "execute_result"
    }
   ],
   "source": [
    "xdata = my_bins[:-1] + wid/2\n",
    "ydata = n2\n",
    "def func(x, p1, p2):\n",
    "    return x ** (p1 - 1.0) * np.exp(-x / p2) / (p2 ** p1 * scipy.special.gamma(p1))\n",
    "popt, pcov = curve_fit(func, xdata, ydata, p0=(1.5, 1.5))  # p0 = initial guess\n",
    "p1, p2 = popt\n",
    "SStot = ((ydata - ydata.mean()) ** 2).sum()\n",
    "SSres = ((ydata - func(xdata, p1, p2)) ** 1).sum()\n",
    "Rsquared = 1 - SSres / SStot\n",
    "h = np.linspace(0,15,101)\n",
    "bx00.plot(h, func(h, p1, p2), color='blue', linewidth=2)\n",
    "# dummy plot, just so we can have a legend on the bottom panel\n",
    "blue, = ax10.plot([100],[100], color='blue', linewidth=2, label=\"Best fit\")\n",
    "bx10.legend([red,blue],[r'Data',r'Best fit, $r^2=${:.2f}'.format(Rsquared)],\n",
    "            loc='upper right', frameon=False, handlelength=4,\n",
    "            markerfirst=False, numpoints=3)"
   ]
  },
  {
   "cell_type": "code",
   "execution_count": 6,
   "metadata": {},
   "outputs": [
    {
     "data": {
      "image/png": "[encoded data removed]",
      "text/plain": [
       "<Figure size 896.638x448.319 with 5 Axes>"
      ]
     },
     "execution_count": 6,
     "metadata": {},
     "output_type": "execute_result"
    }
   ],
   "source": [
    "fig.savefig(\"./python_figures/histograms.png\",dpi=300)\n",
    "fig"
   ]
  }
 ],
 "metadata": {
  "anaconda-cloud": {},
  "kernelspec": {
   "display_name": "Python 3",
   "language": "python",
   "name": "python3"
  },
  "language_info": {
   "codemirror_mode": {
    "name": "ipython",
    "version": 3
   },
   "file_extension": ".py",
   "mimetype": "text/x-python",
   "name": "python",
   "nbconvert_exporter": "python",
   "pygments_lexer": "ipython3",
   "version": "3.7.7"
  }
 },
 "nbformat": 4,
 "nbformat_minor": 1
}
