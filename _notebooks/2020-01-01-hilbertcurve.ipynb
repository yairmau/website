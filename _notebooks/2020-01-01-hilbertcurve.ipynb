{
 "cells": [
  {
   "cell_type": "markdown",
   "metadata": {},
   "source": [
    "# Hilbert Curve\n",
    "> It will fill the plane!\n",
    "\n",
    "- toc: true \n",
    "- badges: true\n",
    "- comments: false\n",
    "- categories: [jupyter]"
   ]
  },
  {
   "cell_type": "markdown",
   "metadata": {},
   "source": [
    "> youtube: https://youtu.be/Oudyl56GPJU\n",
    "\n",
    "## Introduction\n",
    "\n",
    "The Hilbert curve is calculated iteratively. Check out this: [Hilbert_curve: Representation_as_Lindenmayer_system](https://en.wikipedia.org/wiki/Hilbert_curve#Representation_as_Lindenmayer_system)\n",
    "\n",
    "## The code"
   ]
  },
  {
   "cell_type": "code",
   "execution_count": 1,
   "metadata": {},
   "outputs": [],
   "source": [
    "# comment this to enable interactive mode\n",
    "import matplotlib\n",
    "matplotlib.use('AGG')"
   ]
  },
  {
   "cell_type": "code",
   "execution_count": 2,
   "metadata": {},
   "outputs": [],
   "source": [
    "import numpy as np\n",
    "import matplotlib.pyplot as plt\n",
    "import os"
   ]
  },
  {
   "cell_type": "code",
   "execution_count": 3,
   "metadata": {},
   "outputs": [],
   "source": [
    "def apply_rules(s):\n",
    "    \"\"\" Hilbert Curve as a Lindenmayer system (L-system)\n",
    "    https://en.wikipedia.org/wiki/Hilbert_curve#Representation_as_Lindenmayer_system\"\"\"\n",
    "    s=s.replace(\"a\",\"-Bf+AfA+fB-\")  # capital letters \"A\" and \"B\" so that the second operation\n",
    "    s=s.replace(\"b\",\"+Af-BfB-fA+\")  # doesn't apply to the changes already made\n",
    "    return s.lower() # make everyone lowercase\n",
    "\n",
    "axiom = \"a\"\n",
    "n=3 # number of iterations\n",
    "# displacements, ordered in a counter-clockwise direction\n",
    "dxdy = np.array([[ 1, 0],    # right\n",
    "                 [ 0, 1],    # up\n",
    "                 [-1, 0],    # left\n",
    "                 [ 0,-1] ])  # down\n",
    "# displacement is of size 1, so the higher n is, the greater the domain\n",
    "length = 2**n-1; margin = 0.05*length\n",
    "domain = [0-margin,length+margin,0-margin,length+margin] # a 5% margin around the curve\n",
    "s = axiom # string to iterate upon\n",
    "\n",
    "for i in np.arange(n):\n",
    "    s = apply_rules(s)"
   ]
  },
  {
   "cell_type": "code",
   "execution_count": 4,
   "metadata": {},
   "outputs": [],
   "source": [
    "make_movie=True\n",
    "plt.ion() # interactive mode disabled if \"matplotlib.use('AGG')\"\n",
    "fig = plt.figure(figsize=(6,6))\n",
    "ax = fig.add_subplot(111)\n",
    "ax.axis('off')                        # no frame\n",
    "ax.axis(domain)                       # domain size\n",
    "ax.set_aspect('equal')                # square look\n",
    "ax.set_xticks([]); ax.set_yticks([])  # no ticks\n",
    "ax.set_title(r\"$n = {:d}$\".format(n))\n",
    "plt.show()\n",
    "\n",
    "# \"a\" and \"b\" can be erased now\n",
    "s=s.replace(\"a\",\"\")\n",
    "s=s.replace(\"b\",\"\")\n",
    "\n",
    "frame_names = []  # these two are only relevant if make_movie==True\n",
    "frame_counter=0\n",
    "\n",
    "p = np.array([[0.0,0.0]]) # this is the starting point (0,0)\n",
    "p_plot, = plt.plot(p[:,0],p[:,1],color=\"black\")\n",
    "\n",
    "# iterate on the string s\n",
    "for i,c in enumerate(s):\n",
    "    # uncomment to see how fast things are going\n",
    "    # print(\"{:d}/{:d}\".format(i,len(s)))\n",
    "    \n",
    "    # rotations \"+\" and \"-\" change the displacement array dxdy\n",
    "    # \"+\" means clockwise rotation\n",
    "    if c == '+': dxdy = np.roll(dxdy,+1,axis=0)\n",
    "    # \"-\" means counter-clockwise rotation\n",
    "    if c == '-': dxdy = np.roll(dxdy,-1,axis=0)\n",
    "    # forward \"f\"\n",
    "    if c == 'f':\n",
    "        # add one more point to array p\n",
    "        p = np.vstack([p, [p[-1,0]+dxdy[0,0],p[-1,1]+dxdy[0,1]] ])\n",
    "        # update p_plot data, this is MUCH faster that plotting\n",
    "        # several line segments separately\n",
    "        p_plot.set_data(p[:,0],p[:,1])\n",
    "        fig.canvas.draw()\n",
    "        if make_movie:\n",
    "            fname = \"_tmp{:05d}.png\".format(frame_counter)\n",
    "            frame_names.append(fname)\n",
    "            fig.savefig(fname,bbox_inches='tight',resolution=300)\n",
    "        frame_counter += 1"
   ]
  },
  {
   "cell_type": "code",
   "execution_count": 5,
   "metadata": {},
   "outputs": [],
   "source": [
    "if make_movie:\n",
    "    frames = \"_tmp%5d.png\"\n",
    "    # movie_command = \"mencoder mf://*.png -mf fps=24:type=png --ovc lavc -lavcopts vcodec=mpeg4:mbd=2:trell -oac copy -o hil{:d}.avi\".format(n)\n",
    "    \n",
    "    # we might have other .png figures in the directory\n",
    "    # in this case, use the code below\n",
    "    f = open(\"png_list.txt\", \"w\")\n",
    "    for i in frame_names:\n",
    "        f.write(i+\"\\n\")\n",
    "    f.close()\n",
    "    movie_command = \"mencoder mf://@png_list.txt -mf fps=24:type=png -ovc lavc -lavcopts vcodec=mpeg4:mbd=2:trell -oac copy -o hil{:d}.avi\".format(n)\n",
    "    \n",
    "    err=os.system(movie_command)\n",
    "    if err!=0:\n",
    "        raise RuntimeError(\"Couldn't run mencoder.  Data in tmp*.png files\")\n",
    "    for fname in frame_names:\n",
    "        os.remove(fname)\n",
    "    \n",
    "    # we now have one video ready.\n",
    "    # if you want to join several videos, use this:\n",
    "    # sudo apt-get install gpac\n",
    "    # MP4Box -cat part1.avi -cat part2.avi -new joinedfile.avi"
   ]
  }
 ],
 "metadata": {
  "anaconda-cloud": {},
  "kernelspec": {
   "display_name": "Python 3",
   "language": "python",
   "name": "python3"
  },
  "language_info": {
   "codemirror_mode": {
    "name": "ipython",
    "version": 3
   },
   "file_extension": ".py",
   "mimetype": "text/x-python",
   "name": "python",
   "nbconvert_exporter": "python",
   "pygments_lexer": "ipython3",
   "version": "3.7.4"
  }
 },
 "nbformat": 4,
 "nbformat_minor": 1
}
