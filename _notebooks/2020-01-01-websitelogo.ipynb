{
 "cells": [
  {
   "cell_type": "markdown",
   "metadata": {},
   "source": [
    "# This website's logo\n",
    "> Symbolic computation with Wolfram Language kernel\n",
    "\n",
    "- toc: true \n",
    "- badges: true\n",
    "- comments: false\n",
    "- categories: [jupyter]"
   ]
  },
  {
   "cell_type": "markdown",
   "metadata": {},
   "source": [
    "<img src=\"python_figures/site-logo.png\" alt=\"least squares\" width=\"600\">\n",
    "\n",
    "## Introduction\n",
    "\n",
    "This will only work if you have Mathematica installed in your machine. Python can interface with Wolfram Mathematica, taking advantage of its awesome power.\n",
    "\n",
    "The curve inside the square is a parabola:\n",
    "$$\n",
    "y = ax^2 + bx + c\n",
    "$$\n",
    "\n",
    "This parabola passes through the points $(0.3, 0)$ and $(1, 1)$, and it's derivative at $(0.3, 0)$ is zero. We use Mathematica to figure out what are the parameters $a,b,c$. Finally, we transpose the line when plotting, i.e., $x$ is in the vertical axis, and $y$ is in the horizontal axis.\n",
    "\n",
    "## The code"
   ]
  },
  {
   "cell_type": "code",
   "execution_count": 1,
   "metadata": {},
   "outputs": [
    {
     "name": "stderr",
     "output_type": "stream",
     "text": [
      "Equations may not give solutions for all \"solve\" variables.\n",
      "Equations may not give solutions for all \"solve\" variables.\n"
     ]
    },
    {
     "data": {
      "image/png": "[encoded data removed]",
      "text/plain": [
       "<Figure size 360x360 with 1 Axes>"
      ]
     },
     "metadata": {},
     "output_type": "display_data"
    }
   ],
   "source": [
    "%matplotlib inline\n",
    "\n",
    "import matplotlib.pyplot as plt\n",
    "import numpy as np\n",
    "from wolframclient.language import wl\n",
    "from wolframclient.evaluation import WolframLanguageSession\n",
    "from wolframclient.language import wl, wlexpr\n",
    "\n",
    "w = 20\n",
    "plt.rc('axes', linewidth=w)\n",
    "fig=plt.figure(1, (5, 5))\n",
    "\n",
    "fig.subplots_adjust(left=0.0, right=1.0, top=1.0, bottom=0.0,\n",
    "                    hspace=0, wspace=0)\n",
    "ax = plt.Axes(fig, [0., 0., 1., 1.])\n",
    "fig.add_axes(ax)\n",
    "\n",
    "session = WolframLanguageSession()\n",
    "session.evaluate(wlexpr('y[x_] := a x^2 + b x + c'))\n",
    "session.evaluate(wlexpr('p1 = {0.3, 0}'))\n",
    "session.evaluate(wlexpr('p2 = {1, 1}'))\n",
    "session.evaluate(wlexpr('sol1 = Solve[ {y[p1[[1]]] == p1[[2]],  y[p2[[1]]] == p2[[2]]}, {a, b, c}][[1]]'))\n",
    "session.evaluate(wlexpr('sol2 = Solve[(D[(y[x] /. sol1), x] /. x -> 0.3) == 0, a][[1]]'))\n",
    "par = list(session.evaluate(wlexpr('{a, b, c} /. sol1 /. sol2')))\n",
    "\n",
    "x0 = 0.3\n",
    "x=np.linspace(x0, 1, 1001)\n",
    "a, b, c = par# [2.08163, -1.24898, 0.167347]\n",
    "y = lambda x: a*x**2 + b*x + c\n",
    "\n",
    "c1 = 'white'  # bottom right\n",
    "c2 = 'white'  # top left\n",
    "\n",
    "\n",
    "\n",
    "# c1 = '#6c7053'  # bottom right\n",
    "# c2 = '#6e0014'  # top left\n",
    "# ax.fill_between(y(x), x, y2=0, facecolor=c1,\n",
    "#                 edgecolor='black') # bottom right\n",
    "# ax.fill_between(y(x), x, y2=1, facecolor=c2,\n",
    "#                 edgecolor=\"black\", linewidth=10) # top left\n",
    "\n",
    "ax.plot(y(x), x, color=\"black\", lw=w)\n",
    "\n",
    "ax.set_xlim([0,1])\n",
    "ax.set_ylim([0,1])\n",
    "ax.set_xticks([])\n",
    "ax.set_yticks([])\n",
    "\n",
    "fig.savefig(\"./python_figures/site-logo.png\", resolution=600, transparent=True, bbox_inches=\"tight\")\n",
    "fig.savefig(\"./python_figures/site-logo.svg\")\n",
    "plt.show()"
   ]
  },
  {
   "cell_type": "code",
   "execution_count": 2,
   "metadata": {},
   "outputs": [
    {
     "name": "stderr",
     "output_type": "stream",
     "text": [
      "Equations may not give solutions for all \"solve\" variables.\n",
      "Equations may not give solutions for all \"solve\" variables.\n"
     ]
    }
   ],
   "source": [
    "session = WolframLanguageSession()\n",
    "session.evaluate(wlexpr('y[x_] := a x^2 + b x + c'))\n",
    "session.evaluate(wlexpr('p1 = {0.3, -0.02}'))\n",
    "session.evaluate(wlexpr('p2 = {1, 1}'))\n",
    "session.evaluate(wlexpr('sol1 = Solve[ {y[p1[[1]]] == p1[[2]],  y[p2[[1]]] == p2[[2]]}, {a, b, c}][[1]]'))\n",
    "session.evaluate(wlexpr('sol2 = Solve[(D[(y[x] /. sol1), x] /. x -> 0.3) == 0, a][[1]]'))\n",
    "par = list(session.evaluate(wlexpr('{a, b, c} /. sol1 /. sol2')))\n"
   ]
  },
  {
   "cell_type": "code",
   "execution_count": 3,
   "metadata": {},
   "outputs": [
    {
     "data": {
      "text/plain": [
       "[2.0816326530612246, -1.2489795918367346, 0.16734693877551027]"
      ]
     },
     "execution_count": 3,
     "metadata": {},
     "output_type": "execute_result"
    }
   ],
   "source": [
    "par"
   ]
  },
  {
   "cell_type": "code",
   "execution_count": null,
   "metadata": {},
   "outputs": [],
   "source": []
  }
 ],
 "metadata": {
  "anaconda-cloud": {},
  "kernelspec": {
   "display_name": "Python 3",
   "language": "python",
   "name": "python3"
  },
  "language_info": {
   "codemirror_mode": {
    "name": "ipython",
    "version": 3
   },
   "file_extension": ".py",
   "mimetype": "text/x-python",
   "name": "python",
   "nbconvert_exporter": "python",
   "pygments_lexer": "ipython3",
   "version": "3.7.4"
  }
 },
 "nbformat": 4,
 "nbformat_minor": 1
}
