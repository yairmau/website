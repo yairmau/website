{
 "cells": [
  {
   "cell_type": "markdown",
   "metadata": {},
   "source": [
    "# Budyko framework - lecture\n",
    "\n",
    "- toc: true \n",
    "- badges: true\n",
    "- comments: false\n",
    "- categories: [jupyter]"
   ]
  },
  {
   "cell_type": "markdown",
   "metadata": {},
   "source": [
    "**Sources used**:\n",
    "\n",
    "{% cite daly2019linking %},\n",
    "{% cite sposito2017understanding %},\n",
    "{% cite jones2012ecosystem %},\n",
    "{% cite krajewski2021attempt %},\n",
    "{% cite berghuijs2020unanswered %},\n",
    "{% cite creed2012budyko %}"
   ]
  },
  {
   "cell_type": "markdown",
   "metadata": {},
   "source": [
    "## Water and surface energy balances\n",
    "\n",
    "For long-term averages:\n",
    "\n",
    "$$\n",
    "P = ET+Q\n",
    "$$\n",
    "\n",
    "$$\n",
    "R_n = \\lambda_w\\cdot ET + H\n",
    "$$\n",
    "\n",
    "* $P$: precipitation (L T$^{-1}$, e.g.: mm/day)\n",
    "* $ET$: evapotranspiration (L T$^{-1}$)\n",
    "* $Q$: streamflow (L T$^{-1}$)\n",
    "* $R_n$: net energy available at soil surface (M T$^{-3}$, e.g.: W m$^{-2}$)\n",
    "* $\\lambda_w$: latent heat of vaporization of water (M L$^{-1}$T$^{-2}$, as defined here, the units will be weird)\n",
    "* $H$: sensible heat flux from the surface into the atmosphere (M T$^{-3}$)\n",
    "* $\\lambda_w \\cdot ET$: latent heat flux (M T$^{-3}$)\n",
    "\n",
    "## Assumptions\n",
    "\n",
    "1. because we are dealing with long-term averages, there are negligible changes of watershed stored water.\n",
    "2. negligible energy is stored at the soil surface, and heat transfer from soil surface to deeper soil layers ($G$) averages zero.\n",
    "\n",
    "## Question\n",
    "\n",
    "Given measurements of rainfall and meteorological conditions, can we predict the partitioning of $P$ between $ET$ and $Q$?\n",
    "\n",
    "## Limits\n",
    "\n",
    "For very dry watersheds (deserts, for example), almost all precipitation ($P$) is lost via evapotranspiration ($ET$). These watersheds are called water limited.\n",
    "\n",
    "In wet watersheds, at the annual scale, the sensible heat ($H$) is directed from the surface to the atmosphere in almost all climatic zones on Earth (meaning: soil heats air). Therefore, $H$ cannot supply much energy to the soil surface, and it is assumed that $R_n$ provides entirely the energy required for evapotranspiration.  Dividing the second equation by $\\lambda_w$, we get $R_n/\\lambda_w = ET + H/\\lambda_w$. It is clear that the maximum possible $ET$ occurs when all incoming radiation energy $R_n$ is consumed by evapotranspiration $ET$, and there is negligible sensible heat flux  $H$. As a result, the upper limit of $\\lambda_w E$ is $R_n$, in wet watersheds. In these watersheds, called energy limited, $ET$ tends to the potential evapotranspiration ($ET_0$).\n",
    "\n",
    "### Summary:\n",
    "\n",
    "For energy-limited watersheds\n",
    "\n",
    "> (1) As precipitation $P\\rightarrow \\infty$, evapotranspiration $ET\\rightarrow ET_0$\n",
    "\n",
    "For water-limited watersheds\n",
    "\n",
    "> (2) As potential evapotranspiration $ET_0\\rightarrow \\infty$, actual evaporation $ET\\rightarrow P$\n",
    "\n",
    "\n",
    "In general, we can write\n",
    "\n",
    "$$\n",
    "ET = f(P,ET_0)\n",
    "$$\n",
    "\n",
    "The variables $P$ and $ET$ have the same dimenstions (L T$^{-1}$), and we can divide the equation above by $P$:\n",
    "\n",
    "$$\n",
    "\\frac{ET}{P} = f(D_I),\n",
    "$$\n",
    "\n",
    "where\n",
    "$$\n",
    "D_I = \\displaystyle\\frac{ET_0}{P}\n",
    "$$\n",
    "is called the **dryness index**.\n",
    "A useful classification is\n",
    "\n",
    "| Dryness Index  | Classification |\n",
    "|----------------|----------------|\n",
    "| $D_I < 1.54$     | Humid          |\n",
    "| $1.54 < D_I < 2$ | Dry Subhumid   |\n",
    "| $2 < D_I < 5$    | Semi-arid      |\n",
    "| $5 < D_I < 20$   | Arid           |\n",
    "| $20 < D_I$       | Hyper-arid     |\n",
    "\n",
    "<!-- Classification \tAridity Index \tGlobal land area\n",
    "Hyperarid \tAI < 0.05 \t7.5%\n",
    "Arid \t0.05 < AI < 0.20 \t12.1%\n",
    "Semi-arid \t0.20 < AI < 0.50 \t17.7%\n",
    "Dry subhumid \t0.50 < AI < 0.65 \t9.9% \n",
    " -->\n",
    "**ATTENTION**. The dryness index can also be called the \"Aridity Index\" ($AI$), **however** sometimes the $AI$ means the inverse of $D_I$:  \n",
    "$$AI = 1/D_I$$  \n",
    "Be careful to check the definitions.\n",
    "\n",
    "The summary (1) and (2) above can be now represented as:\n",
    "\n",
    "> (1) As $D_I\\rightarrow 0$, $\\displaystyle\\frac{ET}{P}\\rightarrow D_I$\n",
    "\n",
    "> (2) As $D_I\\rightarrow \\infty$, $\\displaystyle\\frac{ET}{P}\\rightarrow 1$\n"
   ]
  },
  {
   "cell_type": "markdown",
   "metadata": {},
   "source": [
    "![](hydrology_figures/budyko0.png)\n",
    "\n",
    "![](hydrology_figures/budyko1.png)\n",
    "\n",
    "\n"
   ]
  },
  {
   "cell_type": "markdown",
   "metadata": {},
   "source": [
    "Budyko (1974), proposed the following equation:\n",
    "\n",
    "$$\n",
    "\\frac{ET}{P} = \\left[ D_I \\tanh\\left( \\frac{1}{D_I} \\right)\\left( 1-e^{-D_I} \\right) \\right]^{1/2}\n",
    "$$\n",
    "\n",
    "![](hydrology_figures/budyko2.png)\n",
    "\n",
    "Source: {% cite jones2012ecosystem %}  \n",
    "![](hydrology_figures/jones-creed-fig5b.png)\n",
    "\n",
    "Source: {% cite krajewski2021attempt %}  \n",
    "![](hydrology_figures/Krajewski-2021-fig1.png)"
   ]
  },
  {
   "cell_type": "markdown",
   "metadata": {},
   "source": [
    "There are many alternatives to Budyko's equation. Many equations have adjustable parameters, such as Fu's equation:\n",
    "\n",
    "$$\n",
    "\\frac{ET}{P} = 1 + D_I - (1 + D_I^w)^{1/w},\n",
    "$$\n",
    "\n",
    "where $w>1$. Each catchment has its own specific parameter $w$, that may represent biophysical/landscape features. There is no concensus regarding the interpretation of $w$, ranging from an effective empirical parameter, whose relationship to biophysical features can be discerned, to an arbitrary empirical constant with no *a priori* physical meaning. Source: {% cite reaver2020reinterpreting %}\n",
    "\n",
    "Source:  {% cite zhang2004rational %}  \n",
    "![](hydrology_figures/zhang-2004-fig7.png)"
   ]
  },
  {
   "cell_type": "markdown",
   "metadata": {},
   "source": [
    "## Hypotheses for why dryness index controls so much the partitioning of P into ET and Q\n",
    "\n",
    "Source:  {% cite berghuijs2020unanswered %}\n",
    "\n",
    "1. The first is that the Budyko curve is accurate because landscape features (e.g., soils and vegetation) coevolve with the local climate in such a manner that precipitation partitioning into streamflow and evapotranspiration converges towards the Budyko curve \n",
    "2. A second hypothesis is that catchments over time evolve towards the supply and demand limits (rather than towards a curve), because landscapes and their vegetation are unaware of the Budyko curve but do evolve to maximize their use of available resources (including water). However, because limiting factors such as climatic variability exist (which will reduce a catchment's ability to use all water because it cannot fully buffer the highly variable precipitation input), catchments will tend to not reach these limits. This may lead to an (apparent) existence of the Budyko curve which falls relatively close to the demand and supply limits.\n",
    "3. A third hypothesis is that the existence of a strong universal relationship between aridity and catchment water balances might be explained by an underlying organizing principle such as maximum entropy production because the Budyko curve may be consistent with how hydrologic systems optimally partition water and energy\n",
    "4. A fourth hypothesis is that virtually any landscape and climate combination (also those in heavily disturbed landscapes: e.g., a city, agricultural lands, etc.) will fall near the Budyko curve because climate aridity will dominate precipitation partitioning largely independent of the climate-landscape configuration or any optimization principle."
   ]
  },
  {
   "cell_type": "markdown",
   "metadata": {},
   "source": [
    "## Hypotheses for deviations from Budyko curve\n",
    "\n",
    "Source: {% cite creed2012budyko %}\n",
    "\n",
    "1. Under stationary conditions (naturally occurring oscillations), catchments will fall on the Budyko Curve\n",
    "2. Under non-stationary conditions (anthropogenic climate change), catchments will deviate from the Budyko Curve in a predictable manner\n",
    "\n",
    "### Reasons for falling off the Budyko Curve\n",
    "\n",
    "1. Inadequate representation of P and T (Loch Vale)\n",
    "2. Inadequate representation of ET (Andrews)\n",
    "3. Inadequate representation of Q (Marcell)\n",
    "4. Forest conversion (Coweeta)\n",
    "5. Forest disturbance (Luquillo)\n",
    "\n",
    "### Critique\n",
    "\n",
    "Source: {% cite berghuijs2020unanswered %}  \n",
    "\n",
    "The (mathematical) specifics of such studies vary, but all approaches are founded on the assumption that catchments follow a (parametric) Budyko curve when aridity changes, and that consequently all other movements in the Budyko space are caused by other factors. The validity of this assumption remains mostly untested, which seems surprising given it underpins all of these studies' findings."
   ]
  },
  {
   "cell_type": "markdown",
   "metadata": {},
   "source": [
    "## References\n",
    "\n",
    "{% bibliography --cited %}"
   ]
  },
  {
   "cell_type": "code",
   "execution_count": null,
   "metadata": {},
   "outputs": [],
   "source": []
  }
 ],
 "metadata": {
  "kernelspec": {
   "display_name": "Python 3.9.7 ('base')",
   "language": "python",
   "name": "python3"
  },
  "language_info": {
   "codemirror_mode": {
    "name": "ipython",
    "version": 3
   },
   "file_extension": ".py",
   "mimetype": "text/x-python",
   "name": "python",
   "nbconvert_exporter": "python",
   "pygments_lexer": "ipython3",
   "version": "3.9.7"
  },
  "vscode": {
   "interpreter": {
    "hash": "c1802537857defe7992544f25bae53dd19303308d5f945e12e7b8de650127286"
   }
  }
 },
 "nbformat": 4,
 "nbformat_minor": 4
}
