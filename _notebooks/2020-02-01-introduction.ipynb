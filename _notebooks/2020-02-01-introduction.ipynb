{
 "cells": [
  {
   "cell_type": "markdown",
   "metadata": {},
   "source": [
    "# Hydrology --- introduction\n",
    "> Water cycle, major processes\n",
    "\n",
    "- toc: true \n",
    "- badges: true\n",
    "- comments: false\n",
    "- categories: [jupyter]"
   ]
  },
  {
   "cell_type": "markdown",
   "metadata": {},
   "source": [
    "## How much water is there? Where?\n",
    "\n",
    "> youtube: https://youtu.be/2ObMyytxLz8\n",
    "\n",
    "![](hydrology_figures/all-the-worlds-water.jpg \"Source: https://www.usgs.gov/special-topic/water-science-school/science/how-much-water-there-earth\")"
   ]
  },
  {
   "cell_type": "markdown",
   "metadata": {},
   "source": [
    "![](hydrology_figures/EarthsWater-BarChart.png \"Source: https://www.usgs.gov/media/images/distribution-water-and-above-earth\")"
   ]
  },
  {
   "cell_type": "markdown",
   "metadata": {},
   "source": [
    "## The water cycle\n",
    "\n",
    "![](hydrology_figures/water-cycle.jpg \"Source: https://www.usgs.gov/media/images/water-cycle-natural-water-cycle\")"
   ]
  },
  {
   "cell_type": "markdown",
   "metadata": {},
   "source": [
    "## Global water distribution\n",
    "\n",
    "| Water source                         | Volume (km$^3$) | % of freshwater | % of total water |\n",
    "|:--------------------------------------|-----------------------------------|-----------------------|------------------------|\n",
    "| Oceans, Seas, & Bays                 | 1,338,000,000                     | --                    | 96.54                  |\n",
    "| Ice caps, Glaciers,<br>& Permanent Snow | 24,064,000                        | 68.7                  | 1.74                   |\n",
    "| Groundwater                          | 23,400,000                        | --                    | 1.69                   |\n",
    "|$\\quad$Fresh                            | 10,530,000                        | 30.1                  |   0.76                 |\n",
    "|$\\quad$Saline                           | 12,870,000                        | --                    |   0.93                 |\n",
    "| Soil Moisture                        | 16,500                            | 0.05                  | 0.001                  |\n",
    "| Ground Ice<br>& Permafrost              | 300,000                           | 0.86                  | 0.022                  |\n",
    "| Lakes                                | 176,400                           | --                    | 0.013                  |\n",
    "|$\\quad$Fresh                            | 91,000                            | 0.26                  | 0.007                  |\n",
    "|$\\quad$Saline                           | 85,400                            | --                    | 0.006                  |\n",
    "| Atmosphere                           | 12,900                            | 0.04                  | 0.001                  |\n",
    "| Swamp Water                          | 11,470                            | 0.03                  | 0.0008                 |\n",
    "| Rivers                               | 2,120                             | 0.006                 | 0.0002                 |\n",
    "| Biological Water                     | 1,120                             | 0.003                 | 0.0001                 |\n",
    "\n",
    "\\* (Percents are rounded, so will not add to 100)  \n",
    "[https://www.usgs.gov/special-topic/water-science-school/science/fundamentals-water-cycle](https://www.usgs.gov/special-topic/water-science-school/science/fundamentals-water-cycle)"
   ]
  },
  {
   "cell_type": "markdown",
   "metadata": {},
   "source": [
    "## Energy drives the hydrologic cycle\n",
    "\n",
    "> A key aspect of the hydrologic cycle is the fact that it is driven by energy inputs (primarily from the sun). At the global scale, the system is essentially closed with respect to water; negligible water is entering or leaving the system. In other words, there is no external forcing in terms of a water flux. Systems with no external forcing will generally eventually come to an equilibrium state. So what makes the hydrologic cycle so dynamic? The solar radiative energy input, which is external to the system, drives the hydrologic cycle. Averaged over the globe, 342 W m$^{-2}$ of solar radiative energy is being continuously input to the system at the top of the atmosphere. This energy input must be dissipated, and this is done, to a large extent, via the hydrologic cycle. Due to this fact, the study of hydrology is not isolated to the study of water storage and movement, but also must often include study of energy storage and movements.\n",
    "\n",
    "Margulis, 2017, \"Introduction to Hydrology\""
   ]
  },
  {
   "cell_type": "markdown",
   "metadata": {},
   "source": [
    "## Components of the water cycle\n",
    "\n",
    "### Water storage in oceans\n",
    "\n",
    "\n",
    "\n",
    "\n"
   ]
  },
  {
   "cell_type": "markdown",
   "metadata": {},
   "source": [
    "### Evaporation / Sublimation\n",
    "\n",
    "Evaporation $\\longrightarrow$ cooling\n",
    "\n",
    "![](hydrology_figures/evaporation_1.gif \"Source: http://www.hk-phy.org/contextual/heat/cha/evapo02_e.html\")\n",
    "\n",
    "![](hydrology_figures/evaporation_2.png \"Source: https://courses.lumenlearning.com/cheminter/chapter/evaporation/\")\n",
    "\n",
    "![](hydrology_figures/cooling-tower.png \"Source: https://engineeringinsider.org/cooling-tower-types/\")\n",
    "\n",
    "![](hydrology_figures/evaporation_slide0.jpg \"Source: https://slideplayer.com/slide/7418126/\")\n",
    "![](hydrology_figures/evaporation_slide1.jpg \"Source: https://slideplayer.com/slide/7418126/\")\n",
    "![](hydrology_figures/evaporation_slide2.jpg \"Source: https://slideplayer.com/slide/7418126/\")"
   ]
  },
  {
   "cell_type": "markdown",
   "metadata": {},
   "source": [
    "### Evapotranspiration\n",
    "\n",
    "![](hydrology_figures/evapotranspiration1.jpg \"Source: http://www.eschooltoday.com/water-cycle/what-is-transpiration-and-evapotranspiration.html\")"
   ]
  },
  {
   "cell_type": "markdown",
   "metadata": {},
   "source": [
    "### Water storage in the atmosphere\n",
    "\n",
    "Cumulonimbus cloud over Africa\n",
    "![](hydrology_figures/cumulonimbus.jpg \"Source: https://commons.wikimedia.org/wiki/File:Cumulonimbus_Cloud_over_Africa_%28color%29.jpg\")\n",
    "\n",
    "Picture of cumulonimbus taken from the International Space Station, over western Africa near the Senegal-Mali border.\n",
    "\n",
    "If all of the water in the atmosphere rained down at once, it would only cover the globe to a depth of 2.5 centimeters.\n",
    "$$\n",
    "\\begin{align}\n",
    "\\text{amount of water in the atmosphere} & \\qquad V = 12\\, 900\\, \\text{km}^3 \\\\\n",
    "\\text{surface of Earth} & \\qquad S = 4 \\pi R^2;\\quad R=6371\\,\\text{km}\\\\\n",
    "& \\qquad V = S \\times h \\\\\n",
    "\\text{height} & \\qquad h = \\frac{V}{S} \\simeq 2.5\\,\\text{cm}\n",
    "\\end{align}\n",
    "$$\n",
    "\n",
    "Try to calculate this yourself, and click on the button below to check how to do it."
   ]
  },
  {
   "cell_type": "code",
   "execution_count": 5,
   "metadata": {},
   "outputs": [
    {
     "name": "stdout",
     "output_type": "stream",
     "text": [
      "The height would be ~ 2.5 cm\n"
     ]
    }
   ],
   "source": [
    "#collapse-hide\n",
    "# amount of water in the atmosphere\n",
    "V = 12900 # km^3\n",
    "# Earth's radius\n",
    "R = 6371 # km\n",
    "# surface of Earth = 4 pi Rˆ2\n",
    "S = 4 * 3.141592 * R**2\n",
    "# Volume: V = S * h, therefore\n",
    "# height\n",
    "h = V / S # in km\n",
    "h_cm = h * 1e5 # in cm\n",
    "print(f\"The height would be ~ {h_cm:.1f} cm\")"
   ]
  },
  {
   "cell_type": "markdown",
   "metadata": {},
   "source": [
    "\n",
    "\n",
    "### Condensation\n",
    "\n",
    "### Precipitation\n",
    "\n",
    "![](hydrology_figures/rain-burst1.jpg \"Source: https://www.usgs.gov/special-topic/water-science-school/science/rain-and-precipitation\")\n",
    "\n",
    "|                   |   Intensity   (cm/h)  |   Median diameter   (mm)  |   Velocity of fall   (m/s)  |   Drops s$^{-1}$ m$^{-2}$  |\n",
    "|:-------------------|--------------------------|------------------------------------|---------------------------------------|----------------------------------------|\n",
    "|   Fog             |   0.013                  |   0.01                             |   0.003                               |   67,425,000                           |\n",
    "|   Mist            |   0.005                  |   0.1                              |   0.21                                |   27,000                               |\n",
    "|   Drizzle         |   0.025                  |   0.96                             |   4.1                                 |   151                                  |\n",
    "|   Light rain      |   0.10                   |   1.24                             |   4.8                                 |   280                                  |\n",
    "|   Moderate rain   |   0.38                   |   1.60                             |   5.7                                 |   495                                  |\n",
    "|   Heavy rain      |   1.52                   |   2.05                             |   6.7                                 |   495                                  |\n",
    "|   Excessive rain  |   4.06                   |   2.40                             |   7.3                                 |   818                                  |\n",
    "|   Cloudburst      |   10.2                   |   2.85                             |   7.9                                 |   1,220                                |\n",
    "\n",
    "\n",
    "Source: https://www.usgs.gov/special-topic/water-science-school/science/precipitation-and-water-cycle"
   ]
  },
  {
   "cell_type": "markdown",
   "metadata": {},
   "source": [
    "### Water storage in ice and snow\n",
    "\n",
    "![](hydrology_figures/iceland-summer.jpg \"Source: https://www.usgs.gov/special-topic/water-science-school/science/ice-snow-and-glaciers-and-water-cycle\")\n",
    "\n",
    "![](hydrology_figures/iceland-winter.jpg \"Source: https://www.usgs.gov/special-topic/water-science-school/science/ice-snow-and-glaciers-and-water-cycle\")"
   ]
  },
  {
   "cell_type": "markdown",
   "metadata": {},
   "source": [
    "### Snowmelt runoff to streams"
   ]
  },
  {
   "cell_type": "markdown",
   "metadata": {},
   "source": [
    "### Surface runoff\n",
    "\n",
    "![](hydrology_figures/runoff-field.jpg \"Source: https://phys.org/news/2016-08-choices-effects-runoff-productivity.html\")\n",
    "\n",
    "![](hydrology_figures/runoff-city.jpg \"Source: https://www.melabes.co.il/news/51773\")"
   ]
  },
  {
   "cell_type": "markdown",
   "metadata": {},
   "source": [
    "### Streamflow\n",
    "\n",
    "The Mississippi river basin is very large\n",
    "![](hydrology_figures/mississippi-watershed.gif \"Source: https://images.app.goo.gl/N9N4MsoNUy39dzCb6\")\n",
    "\n",
    "The Amazon river basin is **Huge**\n",
    "![](hydrology_figures/amazon-basin.jpg \"Source: https://amazonwaters.org/basins/\")\n",
    "\n",
    "![](hydrology_figures/amazon-basin-us.png)"
   ]
  },
  {
   "cell_type": "markdown",
   "metadata": {},
   "source": [
    "### Lakes and rivers\n",
    "\n",
    "![](hydrology_figures/rivers-africa.png \"Source: https://www.dreamstime.com/world-map-africa-egypt-libya-ethiopia-arabia-mauritania-nigeria-somalia-namibia-tanzania-madagascar-geographic-xxl-chart-image154799901\")\n",
    "\n",
    "Lake Malawi\n",
    "![](hydrology_figures/lake-malawi.jpg \"Source: https://images.app.goo.gl/8f4ikUgp4DnLAw1w6\")\n",
    "\n",
    "![](hydrology_figures/lake-malawi2.jpg \"Source: https://www.telegraph.co.uk/travel/destinations/africa/malawi/articles/A-family-holiday-in-Lake-Malawi-zen-and-the-art-of-paddleboarding/\")"
   ]
  },
  {
   "cell_type": "markdown",
   "metadata": {},
   "source": [
    "### Infiltration\n",
    "\n",
    "![](hydrology_figures/infiltration.jpg \"Source: http://sumagroulx.com/water-infiltration/\")"
   ]
  },
  {
   "cell_type": "markdown",
   "metadata": {},
   "source": [
    "### Groundwater storage\n",
    "\n",
    "![](hydrology_figures/groundwater.jpg \"Source: https://www.usgs.gov/media/images/groundwater-area-underground-where-openings-are-full-water\")\n",
    "\n",
    "![](hydrology_figures/ogallala_aquifer_usgs.jpg \"Source: https://modernfarmer.com/2015/07/ogallala-aquifer-depletion/\")\n",
    "\n",
    "![](hydrology_figures/ogallala_aquifer_wiki.png \"Source: https://commons.wikimedia.org/wiki/File:High_plains_fresh_groundwater_usage_2000.svg\")\n",
    "\n",
    "Center Pivot irrigation in Nebraska taps the Ogallala Aquifer.\n",
    "![](hydrology_figures/groundwater-ogallala-aquifer.jpg \"Source: https://nebraskaeducationonlocation.org/natural-attractions/ogallala-aquifer/\")"
   ]
  },
  {
   "cell_type": "markdown",
   "metadata": {},
   "source": [
    "### Groundwater flow and discharge\n",
    "\n",
    "![](hydrology_figures/groundwater-flow-diagram.jpg \"Source: https://www.usgs.gov/media/images/conceptual-groundwater-flow-diagram\")\n",
    "\n",
    "![](hydrology_figures/groundwater-discharge.gif \"Source: http://wellwater.oregonstate.edu/groundwater-movement\")\n",
    "\n",
    "![](hydrology_figures/groundwater-discharge-submarine.png \"Source: https://www.researchgate.net/figure/Principal-pathways-for-submarine-groundwater-discharge-to-the-coastal-ocean-including_fig1_274590439\")\n"
   ]
  },
  {
   "cell_type": "markdown",
   "metadata": {},
   "source": [
    "### Spring\n",
    "\n",
    "Ein Gedi\n",
    "![](hydrology_figures/spring-ein-gedi.png \"Source: https://www.haaretz.com/israel-news/travel/seven-cool-natural-springs-of-israel-1.5388627\")\n",
    "\n",
    "Thousand Springs, Idaho\n",
    "![](hydrology_figures/spring-Thousand-Springs-Idaho.png \"Source: https://www.usgs.gov/media/images/water-flowing-underground-can-find-openings-back-land-surface\")\n",
    "\n"
   ]
  },
  {
   "cell_type": "code",
   "execution_count": null,
   "metadata": {},
   "outputs": [],
   "source": []
  }
 ],
 "metadata": {
  "kernelspec": {
   "display_name": "Python 3",
   "language": "python",
   "name": "python3"
  },
  "language_info": {
   "codemirror_mode": {
    "name": "ipython",
    "version": 3
   },
   "file_extension": ".py",
   "mimetype": "text/x-python",
   "name": "python",
   "nbconvert_exporter": "python",
   "pygments_lexer": "ipython3",
   "version": "3.7.7"
  }
 },
 "nbformat": 4,
 "nbformat_minor": 4
}
