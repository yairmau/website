{
 "cells": [
  {
   "cell_type": "markdown",
   "metadata": {},
   "source": [
    "# Conway's Game of Life\n",
    "> The most famous cellular automaton\n",
    "\n",
    "- toc: true \n",
    "- badges: true\n",
    "- comments: false\n",
    "- categories: [jupyter]"
   ]
  },
  {
   "cell_type": "markdown",
   "metadata": {},
   "source": [
    "> youtube: https://youtu.be/lelsVltLZe4"
   ]
  },
  {
   "cell_type": "markdown",
   "metadata": {},
   "source": [
    "## Introduction\n",
    "\n",
    "This is a (slightly) modified version of [Glowing Python](# http://glowingpython.blogspot.co.il/2015/10/game-of-life-with-python.html\n",
    ")'s code. I make it available here because it features a few nice things:\n",
    "\n",
    "* how to make a movie using matplotlib.animation\n",
    "* how to write a generator (function with yield)\n",
    "* how to plot a sparce array (```spy```)"
   ]
  },
  {
   "cell_type": "markdown",
   "metadata": {},
   "source": [
    "## The code"
   ]
  },
  {
   "cell_type": "code",
   "execution_count": 1,
   "metadata": {
    "collapsed": true
   },
   "outputs": [],
   "source": [
    "import numpy as np\n",
    "from matplotlib import pyplot as plt\n",
    "import matplotlib.animation as manimation\n",
    "\n",
    "\n",
    "def life(X, steps):\n",
    "    \"\"\"\n",
    "     Conway's Game of Life.\n",
    "     - X, matrix with the initial state of the game.\n",
    "     - steps, number of generations.\n",
    "    \"\"\"\n",
    "    def roll_it(x, y):\n",
    "        # rolls the matrix X in a given direction\n",
    "        # x=1, y=0 left;  x=-1, y=0 right;\n",
    "        return np.roll(np.roll(X, y, axis=0), x, axis=1)\n",
    "\n",
    "    for _ in range(steps):\n",
    "        # count the number of neighbours\n",
    "        # the universe is considered toroidal\n",
    "        Y = roll_it(1, 0) + roll_it(0, 1) + \\\n",
    "            roll_it(-1, 0) + roll_it(0, -1) + \\\n",
    "            roll_it(1, 1) + roll_it(-1, -1) + \\\n",
    "            roll_it(1, -1) + roll_it(-1, 1)\n",
    "        # game of life rules\n",
    "        X = np.logical_or(np.logical_and(X, Y == 2), Y == 3)\n",
    "        X = X.astype(int)\n",
    "        yield X\n"
   ]
  },
  {
   "cell_type": "code",
   "execution_count": 2,
   "metadata": {
    "collapsed": true
   },
   "outputs": [],
   "source": [
    "dimensions = (90, 160)  # height, width\n",
    "X = np.zeros(dimensions)  # Y by X dead cells\n",
    "middle_y = dimensions[0] / 2\n",
    "middle_x = dimensions[1] / 2\n",
    "\n",
    "N_iterations = 600\n",
    "\n",
    "# acorn initial condition\n",
    "# http://www.conwaylife.com/w/index.php?title=Acorn\n",
    "X[middle_y, middle_x:middle_x+2] = 1\n",
    "X[middle_y, middle_x+4:middle_x+7] = 1\n",
    "X[middle_y+1, middle_x+3] = 1\n",
    "X[middle_y+2, middle_x+1] = 1"
   ]
  },
  {
   "cell_type": "code",
   "execution_count": 3,
   "metadata": {},
   "outputs": [],
   "source": [
    "FFMpegWriter = manimation.writers['ffmpeg']\n",
    "metadata = dict(title='Game of life', artist='Acorn initial condition')\n",
    "writer = FFMpegWriter(fps=10, metadata=metadata)\n",
    "\n",
    "fig = plt.figure()\n",
    "fig.patch.set_facecolor('black')\n",
    "with writer.saving(fig, \"game_of_life.mp4\", 300):  # last argument: dpi\n",
    "    plt.spy(X, origin='lower')\n",
    "    plt.axis('off')\n",
    "    writer.grab_frame()\n",
    "    plt.clf()\n",
    "    for i, x in enumerate(life(X, N_iterations)):\n",
    "        plt.title(\"iteration: {:03d}\".format(i + 1))\n",
    "        plt.spy(x, origin='lower')\n",
    "        plt.axis('off')\n",
    "        writer.grab_frame()\n",
    "        plt.clf()"
   ]
  }
 ],
 "metadata": {
  "kernelspec": {
   "display_name": "Python 3",
   "language": "python",
   "name": "python3"
  },
  "language_info": {
   "codemirror_mode": {
    "name": "ipython",
    "version": 3
   },
   "file_extension": ".py",
   "mimetype": "text/x-python",
   "name": "python",
   "nbconvert_exporter": "python",
   "pygments_lexer": "ipython3",
   "version": "3.7.4"
  }
 },
 "nbformat": 4,
 "nbformat_minor": 1
}
