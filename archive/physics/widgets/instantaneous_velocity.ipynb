{
 "cells": [
  {
   "cell_type": "markdown",
   "metadata": {},
   "source": [
    "## To use this widget, click on: Run > Run All Cells, then scroll down and move the sliders"
   ]
  },
  {
   "cell_type": "code",
   "execution_count": 14,
   "metadata": {},
   "outputs": [],
   "source": [
    "%matplotlib widget\n",
    "import numpy as np\n",
    "import matplotlib.pyplot as plt\n",
    "import ipywidgets as widgets\n",
    "from ipywidgets import interactive\n",
    "import seaborn as sns\n",
    "sns.set(style=\"ticks\", font_scale=1.5)"
   ]
  },
  {
   "cell_type": "code",
   "execution_count": 29,
   "metadata": {},
   "outputs": [
    {
     "data": {
      "application/vnd.jupyter.widget-view+json": {
       "model_id": "a3b7ca24afd7451ca4c846aa084ec764",
       "version_major": 2,
       "version_minor": 0
      },
      "text/plain": [
       "Canvas(toolbar=Toolbar(toolitems=[('Home', 'Reset original view', 'home', 'home'), ('Back', 'Back to previous …"
      ]
     },
     "metadata": {},
     "output_type": "display_data"
    },
    {
     "data": {
      "application/vnd.jupyter.widget-view+json": {
       "model_id": "df08847bf0e149019d77ab7c2113b277",
       "version_major": 2,
       "version_minor": 0
      },
      "text/plain": [
       "interactive(children=(FloatSlider(value=15.0, description='Tmiddle', max=17.0, min=-4.0, step=0.5), FloatSlide…"
      ]
     },
     "metadata": {},
     "output_type": "display_data"
    }
   ],
   "source": [
    "fig, ax = plt.subplots(figsize=(9,6))\n",
    "t = np.linspace(-5, 20, 101)\n",
    "foo = lambda t: (t**3 - 15*t**2 + 300) / 100\n",
    "x = foo(t)\n",
    "Tmiddle = 15\n",
    "deltaT = 5\n",
    "\n",
    "ax.set(xlim=[-5,20],\n",
    "       ylim=[-5,20],\n",
    "       ylabel=\"y\",\n",
    "       xticks=np.arange(-5,21,5),\n",
    "       xlabel=\"time\",\n",
    "      )\n",
    "ax.set_ylabel(\"x(t)\", rotation=\"horizontal\",labelpad=15)\n",
    "\n",
    "\n",
    "def plot_all_lines(T, dt):\n",
    "    ax.plot(t, x, color=\"red\", lw=3)\n",
    "    t0 = T - dt/2\n",
    "    t1 = T + dt/2\n",
    "    x0 = foo(t0)\n",
    "    x1 = foo(t1)\n",
    "    ax.plot([t0,t1], [x0,x1], color=\"blue\", lw=2)\n",
    "    \n",
    "    ax.plot([t0,t1], [x0,x0], color=\"gray\")\n",
    "    ax.plot([t1,t1], [x0,x1], color=\"gray\")\n",
    "    ax.text(T, x0, r\"$\\Delta t$\", fontsize=20, va=\"top\")\n",
    "    ax.text(t1, (x1+x0)/2, r\"$\\Delta x$\", fontsize=20)\n",
    "    \n",
    "    slope = (3*T**2 - 30*T) / 100\n",
    "    intercept = foo(T) - slope*T\n",
    "    Tmin = -100\n",
    "    Tmax = 100\n",
    "    line = lambda t: slope*t + intercept\n",
    "    ax.plot([Tmin, Tmax], [line(Tmin), line(Tmax)],\n",
    "            color=\"black\", ls=\":\")\n",
    "    \n",
    "plot_all_lines(Tmiddle, deltaT)\n",
    "\n",
    "@widgets.interact(Tmiddle=(-4, 17, 0.5), deltaT=(0, 8, 0.2))\n",
    "def update(Tmiddle = 15, deltaT = 5):\n",
    "    \"\"\"Remove old lines from plot and plot new one\"\"\"\n",
    "    [l.remove() for l in ax.lines]\n",
    "    [l.remove() for l in ax.lines]\n",
    "    [l.remove() for l in ax.lines]\n",
    "    [l.remove() for l in ax.texts]\n",
    "    [l.remove() for l in ax.texts]\n",
    "    plot_all_lines(Tmiddle, deltaT)"
   ]
  },
  {
   "cell_type": "code",
   "execution_count": null,
   "metadata": {},
   "outputs": [],
   "source": []
  }
 ],
 "metadata": {
  "kernelspec": {
   "display_name": "Python 3 (ipykernel)",
   "language": "python",
   "name": "python3"
  },
  "language_info": {
   "codemirror_mode": {
    "name": "ipython",
    "version": 3
   },
   "file_extension": ".py",
   "mimetype": "text/x-python",
   "name": "python",
   "nbconvert_exporter": "python",
   "pygments_lexer": "ipython3",
   "version": "3.7.7"
  }
 },
 "nbformat": 4,
 "nbformat_minor": 4
}
