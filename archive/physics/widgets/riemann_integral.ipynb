{
 "cells": [
  {
   "cell_type": "markdown",
   "metadata": {},
   "source": [
    "## To use this widget, click on: Run > Run All Cells, then scroll down and move the sliders"
   ]
  },
  {
   "cell_type": "code",
   "execution_count": 1,
   "metadata": {},
   "outputs": [],
   "source": [
    "%matplotlib widget\n",
    "import numpy as np\n",
    "import matplotlib.pyplot as plt\n",
    "import ipywidgets as widgets\n",
    "from ipywidgets import interactive\n",
    "import seaborn as sns\n",
    "sns.set(style=\"ticks\", font_scale=1.5)"
   ]
  },
  {
   "cell_type": "code",
   "execution_count": 15,
   "metadata": {},
   "outputs": [
    {
     "data": {
      "application/vnd.jupyter.widget-view+json": {
       "model_id": "096cfebcbbd74c52ae7b75a865fc580f",
       "version_major": 2,
       "version_minor": 0
      },
      "text/plain": [
       "Canvas(toolbar=Toolbar(toolitems=[('Home', 'Reset original view', 'home', 'home'), ('Back', 'Back to previous …"
      ]
     },
     "metadata": {},
     "output_type": "display_data"
    },
    {
     "data": {
      "application/vnd.jupyter.widget-view+json": {
       "model_id": "07c86f8088354d3389a1812ce0fb01ed",
       "version_major": 2,
       "version_minor": 0
      },
      "text/plain": [
       "interactive(children=(IntSlider(value=1, description='n', max=25, min=1), Output()), _dom_classes=('widget-int…"
      ]
     },
     "metadata": {},
     "output_type": "display_data"
    }
   ],
   "source": [
    "fig, ax = plt.subplots(figsize=(6,6))\n",
    "fig.subplots_adjust(left=0.14, right=0.97, top=0.99, bottom=0.10,\n",
    "                    hspace=0.05, wspace=0.02)\n",
    "x = np.linspace(0,10,101)\n",
    "foo = lambda x: (1*x**3 - 12*x**2 + 300) / 5\n",
    "y = foo(x)\n",
    "ax.plot(x, y, color=\"red\")\n",
    "ax.set(xlim=[0, 10],\n",
    "       ylim=[0, 65],\n",
    "       xlabel=\"x\",\n",
    "      )\n",
    "ax.set_ylabel(\"y\", rotation=\"horizontal\",labelpad=15)\n",
    "ax.fill_between(x,y1=y, y2=0, color=\"red\", alpha=0.2)\n",
    "red_area = 300\n",
    "ax.text(10, 60, f\"Red Area = {red_area:.2f}\", ha=\"right\", fontsize=16)\n",
    "\n",
    "def draw_blue_rect(axx, n):\n",
    "    r_x = np.linspace(0,10,n+1)\n",
    "    blue_area = 0.0\n",
    "    rects = []\n",
    "    for i,v in enumerate(r_x[:-1]):\n",
    "        Y1 = foo(np.mean([r_x[i], r_x[i+1]]))\n",
    "        rect = ax.fill_between([r_x[i], r_x[i+1]],\n",
    "                               y1 = Y1, y2=0, color=\"blue\", alpha=0.2,\n",
    "                               edgecolor=\"black\")\n",
    "        rects.append(rect)\n",
    "        blue_area = blue_area + (r_x[i+1] - r_x[i])*Y1\n",
    "        ax.rects = rects\n",
    "    ax.blue_area = ax.text(10, 55, f\"Blue Area = {blue_area:.2f}\",\n",
    "                           ha=\"right\", fontsize=16)\n",
    "\n",
    "draw_blue_rect(ax, 1)\n",
    "\n",
    "@widgets.interact(n=(1, 25, 1))\n",
    "def update(n = 1):\n",
    "    \"\"\"Remove old lines from plot and plot new one\"\"\"\n",
    "    [l.remove() for l in ax.rects]\n",
    "    ax.blue_area.remove()\n",
    "    draw_blue_rect(ax, n)"
   ]
  },
  {
   "cell_type": "code",
   "execution_count": null,
   "metadata": {},
   "outputs": [],
   "source": []
  }
 ],
 "metadata": {
  "kernelspec": {
   "display_name": "Python 3 (ipykernel)",
   "language": "python",
   "name": "python3"
  },
  "language_info": {
   "codemirror_mode": {
    "name": "ipython",
    "version": 3
   },
   "file_extension": ".py",
   "mimetype": "text/x-python",
   "name": "python",
   "nbconvert_exporter": "python",
   "pygments_lexer": "ipython3",
   "version": "3.7.7"
  }
 },
 "nbformat": 4,
 "nbformat_minor": 4
}
