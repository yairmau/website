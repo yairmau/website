{
 "cells": [
  {
   "cell_type": "markdown",
   "metadata": {},
   "source": [
    "## To use this widget, click on: Run > Run All Cells, then scroll down and move the sliders"
   ]
  },
  {
   "cell_type": "code",
   "execution_count": 1,
   "metadata": {},
   "outputs": [],
   "source": [
    "%matplotlib widget\n",
    "import numpy as np\n",
    "import matplotlib.pyplot as plt\n",
    "import ipywidgets as widgets\n",
    "from ipywidgets import interactive\n",
    "import seaborn as sns\n",
    "sns.set(style=\"ticks\", font_scale=1.5)"
   ]
  },
  {
   "cell_type": "code",
   "execution_count": 2,
   "metadata": {},
   "outputs": [
    {
     "data": {
      "application/vnd.jupyter.widget-view+json": {
       "model_id": "acb83fee3a7749b88c9c3bdefff1d56e",
       "version_major": 2,
       "version_minor": 0
      },
      "text/plain": [
       "Canvas(toolbar=Toolbar(toolitems=[('Home', 'Reset original view', 'home', 'home'), ('Back', 'Back to previous …"
      ]
     },
     "metadata": {},
     "output_type": "display_data"
    },
    {
     "data": {
      "application/vnd.jupyter.widget-view+json": {
       "model_id": "ff2a074b594749b5850b1eefab7919c3",
       "version_major": 2,
       "version_minor": 0
      },
      "text/plain": [
       "interactive(children=(FloatSlider(value=0.3141592653589793, description='alpha', max=1.57, step=0.01), FloatSl…"
      ]
     },
     "metadata": {},
     "output_type": "display_data"
    }
   ],
   "source": [
    "pi = np.pi\n",
    "g = 9.8 \n",
    "fig, (ax0, ax1) = plt.subplots(1, 2, figsize=(9,5))\n",
    "fig.subplots_adjust(left=0.02, right=0.90, top=0.99, bottom=0.16,\n",
    "                    hspace=0.05, wspace=0.02)\n",
    "x = np.linspace(-2,18,501)\n",
    "t = np.linspace(0,5,101)\n",
    "g = 9.8\n",
    "v0 = 10.0\n",
    "alpha0 = 0.1*pi\n",
    "\n",
    "a = np.linspace(0, pi/2, 101)\n",
    "\n",
    "def trajectory(x, alpha, v0):\n",
    "    return np.tan(alpha)*x - (g/(2*v0**2*(np.cos(alpha))**2)*x**2)\n",
    "\n",
    "def max_range_func(a, v0):\n",
    "    return v0**2 * np.sin(2*a) / g\n",
    "\n",
    "def max_range(alpha, v0):\n",
    "    return v0**2 * np.sin(2*alpha) / g\n",
    "\n",
    "xoft = lambda alpha: v0*np.cos(alpha)*t\n",
    "yoft = lambda alpha: v0*np.sin(alpha)*t - g*t**2/2\n",
    "y = trajectory(x, alpha0, v0)\n",
    "ax0.fill_between(x,y1=0,y2=-10, color=\"xkcd:grass\", zorder=10)\n",
    "ax0.fill_between(x,y1=0,y2=12, color=\"xkcd:sky\", zorder=-10)\n",
    "ax0.scatter(9, 9, s=4000, facecolor=\"yellow\")\n",
    "\n",
    "def plot_left(ax, alpha, v0):\n",
    "    ax.plot(x, trajectory(x, alpha, v0), color=\"red\", lw=3)\n",
    "    make_arrow(ax, v0, alpha)\n",
    "    ax.plot([max_range(alpha, v0)], [0], 'o', zorder=10,\n",
    "            markerfacecolor=\"white\", markeredgecolor=\"black\", markersize=10, markeredgewidth=3)\n",
    "\n",
    "def plot_right(ax, alpha, v0):\n",
    "    mr = max_range(alpha, v0)\n",
    "    ax.plot(a, max_range_func(a, v0), color=\"tab:red\", lw=3)\n",
    "    ax.plot([alpha], mr, 'o', clip_on = False, \n",
    "            markerfacecolor=\"white\", markeredgecolor=\"black\", markersize=10, markeredgewidth=3)\n",
    "    ax.plot(a, a*0 + mr, color=\"black\", ls=\":\", zorder=0)\n",
    "    ax.plot([alpha]*2, [0, mr], color=\"black\", ls=\":\", zorder=0)\n",
    "\n",
    "def make_arrow(ax, v, alpha):\n",
    "    vx = v * np.cos(alpha)\n",
    "    vy = v * np.sin(alpha)\n",
    "    ax.ann = ax.annotate(\"\", xytext=(0, 0), xy=(vx*0.6, vy*0.6), zorder=0,\n",
    "                arrowprops=dict(facecolor='black',\n",
    "                                connectionstyle=\"arc3\",\n",
    "                                arrowstyle=\"simple\",)\n",
    "               )\n",
    "    ax.v0text = ax.text(vx*0.6, vy*0.6, r\"$\\vec{v}$\", fontsize=20)\n",
    "\n",
    "plot_right(ax1, alpha0, v0)\n",
    "plot_left(ax0, alpha0, v0)\n",
    "\n",
    "ax0.set(xlim=[-2, 12],\n",
    "        ylim=[-2, 12],\n",
    "        xticks=np.arange(0,11,2),\n",
    "        yticks=[],\n",
    "        xlabel=\"x (m)\"\n",
    "       )\n",
    "\n",
    "ax1.set(xlim=[0, pi/2],\n",
    "        ylim=[0, 11],\n",
    "        xticks=[0, pi/4, pi/2],\n",
    "        xticklabels=['0', r'$\\frac{\\pi}{4}$', r'$\\frac{\\pi}{2}$'],\n",
    "        xlabel=r\"angle, $\\alpha$\",\n",
    "        ylabel=\"horizontal range, L (m)\"\n",
    "       )\n",
    "ax1.yaxis.set_label_position(\"right\")\n",
    "ax1.yaxis.tick_right()\n",
    "\n",
    "ax1.text(0, 10, r\"$ L=\\frac{v_0^2 \\sin(2\\alpha)}{g}$\")\n",
    "\n",
    "@widgets.interact(alpha=(0, 1.57, 0.01), v0=(0.1, 10.0-0.1, 0.1))\n",
    "def update(alpha = pi*0.1, v0 = 10):\n",
    "    \"\"\"Remove old lines from plot and plot new one\"\"\"\n",
    "    [l.remove() for l in ax0.lines]\n",
    "    [l.remove() for l in ax0.lines]\n",
    "    ax0.ann.remove()\n",
    "    ax0.v0text.remove()\n",
    "    plot_left(ax0, alpha, v0)\n",
    "    [l.remove() for l in ax1.lines]\n",
    "    [l.remove() for l in ax1.lines]\n",
    "    [l.remove() for l in ax1.lines]\n",
    "    plot_right(ax1, alpha, v0)"
   ]
  },
  {
   "cell_type": "code",
   "execution_count": null,
   "metadata": {},
   "outputs": [],
   "source": []
  }
 ],
 "metadata": {
  "kernelspec": {
   "display_name": "Python 3 (ipykernel)",
   "language": "python",
   "name": "python3"
  },
  "language_info": {
   "codemirror_mode": {
    "name": "ipython",
    "version": 3
   },
   "file_extension": ".py",
   "mimetype": "text/x-python",
   "name": "python",
   "nbconvert_exporter": "python",
   "pygments_lexer": "ipython3",
   "version": "3.7.7"
  }
 },
 "nbformat": 4,
 "nbformat_minor": 4
}
