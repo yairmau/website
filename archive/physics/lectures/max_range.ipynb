{
 "cells": [
  {
   "cell_type": "code",
   "execution_count": 1,
   "metadata": {},
   "outputs": [],
   "source": [
    "import numpy as np\n",
    "import matplotlib.pyplot as plt\n",
    "import ipywidgets as widgets\n",
    "from ipywidgets import interactive"
   ]
  },
  {
   "cell_type": "code",
   "execution_count": 3,
   "metadata": {},
   "outputs": [
    {
     "data": {
      "application/vnd.jupyter.widget-view+json": {
       "model_id": "2c3d2d523120498fbb3f0f5b8d5f2737",
       "version_major": 2,
       "version_minor": 0
      },
      "text/plain": [
       "interactive(children=(FloatSlider(value=0.5235987755982988, description='$\\\\alpha$ (rad)', max=1.5697963267948…"
      ]
     },
     "metadata": {},
     "output_type": "display_data"
    }
   ],
   "source": [
    "%matplotlib inline\n",
    "\n",
    "pi = np.pi\n",
    "def f(alpha, v0, show_v):\n",
    "    fig, ax = plt.subplots(figsize=(8,6))\n",
    "    x = np.linspace(-2,18,501)\n",
    "    t = np.linspace(0,5,101)\n",
    "    g = 9.8\n",
    "    trajectory = lambda x: np.tan(alpha)*x - (g/(2*v0**2*(np.cos(alpha))**2)*x**2)\n",
    "    xoft = lambda t: v0*np.cos(alpha)*t\n",
    "    yoft = lambda t: v0*np.sin(alpha)*t - g*t**2/2\n",
    "    y = trajectory(x)\n",
    "    ax.plot(x, y, color=\"red\", lw=3)\n",
    "    ax.set(xlim=[-2,12], ylim=[-1,6], ylabel=\"y\")\n",
    "    ax.set_xlabel(\"x (m)\", fontsize=14)\n",
    "    ax.set_ylabel(\"y (m)\", fontsize=14, rotation=\"horizontal\",labelpad=15)\n",
    "    ax.fill_between(x,y1=0,y2=-10, color=\"xkcd:grass\", zorder=10)\n",
    "    ax.fill_between(x,y1=0,y2=10, color=\"xkcd:sky\", zorder=-10)\n",
    "    ax.scatter(9, 5, s=4000, facecolor=\"yellow\")\n",
    "    if show_v:\n",
    "        v = v0*0.4\n",
    "        vx = v * np.cos(alpha)\n",
    "        vy = v * np.sin(alpha)\n",
    "        ax.annotate(\"\", xy=(vx, vy), xytext=(0, 0),\n",
    "                    arrowprops=dict(facecolor='black',\n",
    "                                    #shrink=0.0,\n",
    "                                    connectionstyle=\"arc3\",\n",
    "                                    arrowstyle=\"simple\")\n",
    "                   )\n",
    "        ax.text(vx, vy, r\"$v_0$\", fontsize=20)\n",
    "        \n",
    "interactive_plot = interactive(f, alpha=widgets.FloatSlider(min=0, max=pi/2-0.001, step=pi/50, value=np.pi/6, description=r'$\\alpha$ (rad)'),\n",
    "                                  v0=widgets.FloatSlider(min=1, max=10, step=1, value=5, description=r'$v_0$ (m/s)'),\n",
    "                                  show_v=widgets.Checkbox(value=True))\n",
    "output = interactive_plot.children[-1]\n",
    "# to avoid flickering: https://ipywidgets.readthedocs.io/en/latest/examples/Using%20Interact.html#Flickering-and-jumping-output\n",
    "output.layout.height = '400px'\n",
    "interactive_plot"
   ]
  },
  {
   "cell_type": "code",
   "execution_count": null,
   "metadata": {},
   "outputs": [],
   "source": []
  }
 ],
 "metadata": {
  "kernelspec": {
   "display_name": "Python 3",
   "language": "python",
   "name": "python3"
  },
  "language_info": {
   "codemirror_mode": {
    "name": "ipython",
    "version": 3
   },
   "file_extension": ".py",
   "mimetype": "text/x-python",
   "name": "python",
   "nbconvert_exporter": "python",
   "pygments_lexer": "ipython3",
   "version": "3.7.4"
  }
 },
 "nbformat": 4,
 "nbformat_minor": 4
}
