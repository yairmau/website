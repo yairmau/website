{
 "cells": [
  {
   "cell_type": "code",
   "execution_count": 1,
   "metadata": {},
   "outputs": [],
   "source": [
    "import numpy as np\n",
    "import matplotlib.pyplot as plt\n",
    "import ipywidgets as widgets\n",
    "from ipywidgets import interactive\n",
    "import seaborn as sns\n",
    "sns.set(style=\"ticks\", font_scale=1.5)\n",
    "sns.set_context(\"poster\")"
   ]
  },
  {
   "cell_type": "code",
   "execution_count": 2,
   "metadata": {},
   "outputs": [
    {
     "data": {
      "application/vnd.jupyter.widget-view+json": {
       "model_id": "5f52c801244f41adac45147c0e9c3909",
       "version_major": 2,
       "version_minor": 0
      },
      "text/plain": [
       "interactive(children=(IntSlider(value=1, description='n', max=25, min=1), Output(layout=Layout(height='400px')…"
      ]
     },
     "metadata": {},
     "output_type": "display_data"
    }
   ],
   "source": [
    "%matplotlib inline\n",
    "\n",
    "def f(n):\n",
    "    fig, ax = plt.subplots(figsize=(8,6))\n",
    "    x = np.linspace(0,10,101)\n",
    "    foo = lambda x: (1*x**3 - 12*x**2 + 300) / 5\n",
    "    y = foo(x)\n",
    "    ax.plot(x, y, color=\"red\")\n",
    "    a=n\n",
    "    ax.set(ylim=[0,65], ylabel=\"y\")\n",
    "    ax.set_xlabel(\"x\")\n",
    "    ax.set_ylabel(\"y\", rotation=\"horizontal\",labelpad=15)\n",
    "    ax.fill_between(x,y1=y, y2=0, color=\"red\", alpha=0.2)\n",
    "    r_x = np.linspace(0,10,n+1)\n",
    "    blue_area = 0.0\n",
    "    for i,v in enumerate(r_x[:-1]):\n",
    "        Y1 = foo(np.mean([r_x[i], r_x[i+1]]))\n",
    "        ax.fill_between([r_x[i], r_x[i+1]],\n",
    "                        y1 = Y1, y2=0, color=\"blue\", alpha=0.2)\n",
    "        blue_area = blue_area + (r_x[i+1] - r_x[i])*Y1\n",
    "    red_area = 300\n",
    "    ax.text(10, 60, f\"Red Area = {red_area:.2f}\", ha=\"right\", fontsize=16)\n",
    "    ax.text(10, 55, f\"Blue Area = {blue_area:.2f}\", ha=\"right\", fontsize=16)\n",
    "\n",
    "interactive_plot = interactive(f, n=widgets.IntSlider(min=1, max=25))\n",
    "output = interactive_plot.children[-1]\n",
    "# to avoid flickering: https://ipywidgets.readthedocs.io/en/latest/examples/Using%20Interact.html#Flickering-and-jumping-output\n",
    "output.layout.height = '400px'\n",
    "interactive_plot"
   ]
  },
  {
   "cell_type": "code",
   "execution_count": null,
   "metadata": {},
   "outputs": [],
   "source": []
  }
 ],
 "metadata": {
  "kernelspec": {
   "display_name": "Python 3",
   "language": "python",
   "name": "python3"
  },
  "language_info": {
   "codemirror_mode": {
    "name": "ipython",
    "version": 3
   },
   "file_extension": ".py",
   "mimetype": "text/x-python",
   "name": "python",
   "nbconvert_exporter": "python",
   "pygments_lexer": "ipython3",
   "version": "3.7.4"
  }
 },
 "nbformat": 4,
 "nbformat_minor": 4
}
