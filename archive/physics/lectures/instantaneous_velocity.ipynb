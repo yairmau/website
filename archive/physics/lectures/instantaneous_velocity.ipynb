{
 "cells": [
  {
   "cell_type": "code",
   "execution_count": 1,
   "metadata": {},
   "outputs": [],
   "source": [
    "import numpy as np\n",
    "import matplotlib.pyplot as plt\n",
    "import seaborn as sns\n",
    "sns.set(style=\"ticks\", font_scale=1.5)\n",
    "sns.set_context(\"poster\")\n",
    "import ipywidgets as widgets\n",
    "from ipywidgets import interactive"
   ]
  },
  {
   "cell_type": "code",
   "execution_count": 7,
   "metadata": {},
   "outputs": [
    {
     "data": {
      "application/vnd.jupyter.widget-view+json": {
       "model_id": "2a492f45163e4a0e8ce2f33f329dc404",
       "version_major": 2,
       "version_minor": 0
      },
      "text/plain": [
       "interactive(children=(FloatSlider(value=15.0, description='Tmiddle', max=17.0, min=1.0, step=0.5), FloatSlider…"
      ]
     },
     "metadata": {},
     "output_type": "display_data"
    }
   ],
   "source": [
    "%matplotlib inline\n",
    "\n",
    "def f(Tmiddle, deltaT, show_deltas, show_tangent):\n",
    "    fig, ax = plt.subplots(figsize=(8,6))\n",
    "    t = np.linspace(0,20,101)\n",
    "    foo = lambda t: (t**3 - 15*t**2 + 300) / 100\n",
    "    x = foo(t)\n",
    "    ax.plot(t, x, color=\"red\", lw=3)\n",
    "    ax.set(xlim=[0,20], ylim=[-5,20], ylabel=\"y\", xticks=np.arange(0,21,5))\n",
    "    ax.set_xlabel(\"time\")\n",
    "    ax.set_ylabel(\"x(t)\", rotation=\"horizontal\",labelpad=15)\n",
    "    t0 = Tmiddle - deltaT/2\n",
    "    t1 = Tmiddle + deltaT/2\n",
    "    x0 = foo(t0)\n",
    "    x1 = foo(t1)\n",
    "    ax.plot([t0,t1], [x0,x1], color=\"blue\", lw=2)\n",
    "    if show_deltas:\n",
    "        ax.plot([t0,t1], [x0,x0], color=\"gray\")\n",
    "        ax.plot([t1,t1], [x0,x1], color=\"gray\")\n",
    "        ax.text(Tmiddle, x0, r\"$\\Delta t$\", fontsize=20,va=\"top\")\n",
    "        ax.text(t1, (x1+x0)/2, r\"$\\Delta x$\", fontsize=20)\n",
    "    if show_tangent:\n",
    "        slope = (3*Tmiddle**2 - 30*Tmiddle) / 100\n",
    "        intercept = foo(Tmiddle) - slope*Tmiddle\n",
    "        Tmin = -100\n",
    "        Tmax = 100\n",
    "        line = lambda t: slope*t + intercept\n",
    "        ax.plot([Tmin, Tmax], [line(Tmin), line(Tmax)],\n",
    "                color=\"black\", ls=\":\")\n",
    "        \n",
    "interactive_plot = interactive(f, Tmiddle=widgets.FloatSlider(min=1, max=17, step=0.5, value=15),\n",
    "                                  deltaT=widgets.FloatSlider(min=0, max=8, step=0.2, value=5),\n",
    "                                  show_deltas=widgets.Checkbox(value=True),\n",
    "                                  show_tangent=widgets.Checkbox(value=True))\n",
    "output = interactive_plot.children[-1]\n",
    "# to avoid flickering: https://ipywidgets.readthedocs.io/en/latest/examples/Using%20Interact.html#Flickering-and-jumping-output\n",
    "output.layout.height = '450px'\n",
    "interactive_plot"
   ]
  }
 ],
 "metadata": {
  "kernelspec": {
   "display_name": "Python 3",
   "language": "python",
   "name": "python3"
  },
  "language_info": {
   "codemirror_mode": {
    "name": "ipython",
    "version": 3
   },
   "file_extension": ".py",
   "mimetype": "text/x-python",
   "name": "python",
   "nbconvert_exporter": "python",
   "pygments_lexer": "ipython3",
   "version": "3.7.4"
  }
 },
 "nbformat": 4,
 "nbformat_minor": 4
}
